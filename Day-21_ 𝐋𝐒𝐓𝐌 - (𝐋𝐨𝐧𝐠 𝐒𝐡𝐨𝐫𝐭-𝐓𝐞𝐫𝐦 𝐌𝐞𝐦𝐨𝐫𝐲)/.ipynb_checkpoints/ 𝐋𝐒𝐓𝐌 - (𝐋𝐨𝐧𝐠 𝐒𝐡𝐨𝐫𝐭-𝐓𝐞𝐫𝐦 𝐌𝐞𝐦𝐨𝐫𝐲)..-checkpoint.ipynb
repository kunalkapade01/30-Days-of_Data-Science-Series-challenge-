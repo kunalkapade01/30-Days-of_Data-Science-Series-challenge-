{
 "cells": [
  {
   "cell_type": "markdown",
   "id": "d0ac293e",
   "metadata": {},
   "source": [
    "# - 𝐋𝐒𝐓𝐌 :"
   ]
  },
  {
   "cell_type": "code",
   "execution_count": 1,
   "id": "5e5befff",
   "metadata": {},
   "outputs": [
    {
     "name": "stdout",
     "output_type": "stream",
     "text": [
      "WARNING:tensorflow:From C:\\Users\\kunal\\anaconda3\\Lib\\site-packages\\keras\\src\\losses.py:2976: The name tf.losses.sparse_softmax_cross_entropy is deprecated. Please use tf.compat.v1.losses.sparse_softmax_cross_entropy instead.\n",
      "\n"
     ]
    }
   ],
   "source": [
    "# Import libarry :\n",
    "import numpy as np\n",
    "import tensorflow as tf\n",
    "from tensorflow.keras.models import Sequential\n",
    "from tensorflow.keras.layers import LSTM, Dense\n",
    "from sklearn.preprocessing import MinMaxScaler"
   ]
  },
  {
   "cell_type": "code",
   "execution_count": 2,
   "id": "452bcd26",
   "metadata": {},
   "outputs": [],
   "source": [
    "# Generate Sequential data :\n",
    "data = np.sin(np.linspace(0, 100, 1000))"
   ]
  },
  {
   "cell_type": "code",
   "execution_count": 3,
   "id": "e53fa3d7",
   "metadata": {},
   "outputs": [],
   "source": [
    "# prepare the datasets:\n",
    "def create_dataset(data, time_step=1):\n",
    "    X, y = [],[]\n",
    "    for i in range(len(data) - time_step - 1):\n",
    "        a = data[i:(i + time_step)]\n",
    "        X.append(a)\n",
    "        y.append(data[i + time_step])\n",
    "    return np.array(X), np.array(y)"
   ]
  },
  {
   "cell_type": "code",
   "execution_count": 4,
   "id": "8ac646e8",
   "metadata": {},
   "outputs": [],
   "source": [
    "# Scale the data :\n",
    "scaler = MinMaxScaler(feature_range=(0, 1))\n",
    "data = scaler.fit_transform(data.reshape(-1, 1))"
   ]
  },
  {
   "cell_type": "code",
   "execution_count": 5,
   "id": "07f63f67",
   "metadata": {},
   "outputs": [],
   "source": [
    "# Create data with time steps :\n",
    "time_step = 10\n",
    "X, y = create_dataset(data, time_step)\n",
    "X = X.reshape(X.shape[0], X.shape[1], 1)"
   ]
  },
  {
   "cell_type": "code",
   "execution_count": 6,
   "id": "69aa62c3",
   "metadata": {},
   "outputs": [],
   "source": [
    "# Split data into train and test :\n",
    "train_size = int(len(X) * 0.8)\n",
    "x_train, x_test = X[:train_size], X[train_size:]\n",
    "y_train, y_test = y[:train_size], y[train_size:]"
   ]
  },
  {
   "cell_type": "code",
   "execution_count": 7,
   "id": "ae6aa60e",
   "metadata": {},
   "outputs": [
    {
     "name": "stdout",
     "output_type": "stream",
     "text": [
      "WARNING:tensorflow:From C:\\Users\\kunal\\anaconda3\\Lib\\site-packages\\keras\\src\\layers\\rnn\\lstm.py:148: The name tf.executing_eagerly_outside_functions is deprecated. Please use tf.compat.v1.executing_eagerly_outside_functions instead.\n",
      "\n"
     ]
    }
   ],
   "source": [
    "# Create the LSTM model :\n",
    "model = Sequential([\n",
    "    LSTM(50, input_shape=(time_step, 1)),\n",
    "    Dense(1)\n",
    "])"
   ]
  },
  {
   "cell_type": "code",
   "execution_count": 8,
   "id": "3600816c",
   "metadata": {},
   "outputs": [
    {
     "name": "stdout",
     "output_type": "stream",
     "text": [
      "WARNING:tensorflow:From C:\\Users\\kunal\\anaconda3\\Lib\\site-packages\\keras\\src\\optimizers\\__init__.py:309: The name tf.train.Optimizer is deprecated. Please use tf.compat.v1.train.Optimizer instead.\n",
      "\n"
     ]
    }
   ],
   "source": [
    "# Compile the model :\n",
    "model.compile(optimizer=\"adam\", loss=\"mean_squared_error\")"
   ]
  },
  {
   "cell_type": "code",
   "execution_count": 9,
   "id": "082b9429",
   "metadata": {},
   "outputs": [
    {
     "name": "stdout",
     "output_type": "stream",
     "text": [
      "Epoch 1/50\n",
      "WARNING:tensorflow:From C:\\Users\\kunal\\anaconda3\\Lib\\site-packages\\keras\\src\\utils\\tf_utils.py:492: The name tf.ragged.RaggedTensorValue is deprecated. Please use tf.compat.v1.ragged.RaggedTensorValue instead.\n",
      "\n",
      "791/791 [==============================] - 11s 8ms/step - loss: 0.0123\n",
      "Epoch 2/50\n",
      "791/791 [==============================] - 6s 7ms/step - loss: 1.8364e-04\n",
      "Epoch 3/50\n",
      "791/791 [==============================] - 5s 7ms/step - loss: 1.0492e-04\n",
      "Epoch 4/50\n",
      "791/791 [==============================] - 6s 8ms/step - loss: 1.2356e-04\n",
      "Epoch 5/50\n",
      "791/791 [==============================] - 7s 9ms/step - loss: 9.7512e-05\n",
      "Epoch 6/50\n",
      "791/791 [==============================] - 6s 7ms/step - loss: 5.4227e-05\n",
      "Epoch 7/50\n",
      "791/791 [==============================] - 6s 8ms/step - loss: 5.3819e-05\n",
      "Epoch 8/50\n",
      "791/791 [==============================] - 7s 9ms/step - loss: 1.6263e-04\n",
      "Epoch 9/50\n",
      "791/791 [==============================] - 6s 8ms/step - loss: 1.8397e-05\n",
      "Epoch 10/50\n",
      "791/791 [==============================] - 6s 7ms/step - loss: 7.4895e-05\n",
      "Epoch 11/50\n",
      "791/791 [==============================] - 6s 7ms/step - loss: 1.7427e-05\n",
      "Epoch 12/50\n",
      "791/791 [==============================] - 6s 7ms/step - loss: 1.7409e-04\n",
      "Epoch 13/50\n",
      "791/791 [==============================] - 6s 8ms/step - loss: 1.4414e-06\n",
      "Epoch 14/50\n",
      "791/791 [==============================] - 6s 8ms/step - loss: 3.2555e-05\n",
      "Epoch 15/50\n",
      "791/791 [==============================] - 6s 7ms/step - loss: 4.2582e-06\n",
      "Epoch 16/50\n",
      "791/791 [==============================] - 6s 7ms/step - loss: 1.3666e-05\n",
      "Epoch 17/50\n",
      "791/791 [==============================] - 6s 8ms/step - loss: 1.2768e-04\n",
      "Epoch 18/50\n",
      "791/791 [==============================] - 6s 7ms/step - loss: 1.7297e-07\n",
      "Epoch 19/50\n",
      "791/791 [==============================] - 6s 7ms/step - loss: 2.7828e-05\n",
      "Epoch 20/50\n",
      "791/791 [==============================] - 5s 6ms/step - loss: 9.6286e-07\n",
      "Epoch 21/50\n",
      "791/791 [==============================] - 5s 7ms/step - loss: 1.1701e-04\n",
      "Epoch 22/50\n",
      "791/791 [==============================] - 5s 6ms/step - loss: 8.8813e-08\n",
      "Epoch 23/50\n",
      "791/791 [==============================] - 5s 6ms/step - loss: 1.6913e-07\n",
      "Epoch 24/50\n",
      "791/791 [==============================] - 4s 5ms/step - loss: 9.6439e-07\n",
      "Epoch 25/50\n",
      "791/791 [==============================] - 4s 5ms/step - loss: 5.0862e-05\n",
      "Epoch 26/50\n",
      "791/791 [==============================] - 5s 6ms/step - loss: 3.0308e-06\n",
      "Epoch 27/50\n",
      "791/791 [==============================] - 5s 6ms/step - loss: 7.3558e-05\n",
      "Epoch 28/50\n",
      "791/791 [==============================] - 5s 7ms/step - loss: 1.6428e-06\n",
      "Epoch 29/50\n",
      "791/791 [==============================] - 5s 7ms/step - loss: 2.7634e-06\n",
      "Epoch 30/50\n",
      "791/791 [==============================] - 5s 6ms/step - loss: 1.8461e-05\n",
      "Epoch 31/50\n",
      "791/791 [==============================] - 5s 6ms/step - loss: 1.9856e-05\n",
      "Epoch 32/50\n",
      "791/791 [==============================] - 6s 7ms/step - loss: 7.1394e-06\n",
      "Epoch 33/50\n",
      "791/791 [==============================] - 5s 7ms/step - loss: 1.0485e-05\n",
      "Epoch 34/50\n",
      "791/791 [==============================] - 4s 5ms/step - loss: 2.5226e-05\n",
      "Epoch 35/50\n",
      "791/791 [==============================] - 5s 6ms/step - loss: 4.0246e-06\n",
      "Epoch 36/50\n",
      "791/791 [==============================] - 4s 5ms/step - loss: 8.2178e-05\n",
      "Epoch 37/50\n",
      "791/791 [==============================] - 4s 6ms/step - loss: 8.5244e-08\n",
      "Epoch 38/50\n",
      "791/791 [==============================] - 5s 6ms/step - loss: 2.1502e-07\n",
      "Epoch 39/50\n",
      "791/791 [==============================] - 5s 6ms/step - loss: 3.6694e-05\n",
      "Epoch 40/50\n",
      "791/791 [==============================] - 5s 6ms/step - loss: 8.3060e-08\n",
      "Epoch 41/50\n",
      "791/791 [==============================] - 5s 6ms/step - loss: 3.0290e-07\n",
      "Epoch 42/50\n",
      "791/791 [==============================] - 5s 6ms/step - loss: 2.4044e-05\n",
      "Epoch 43/50\n",
      "791/791 [==============================] - 5s 6ms/step - loss: 1.2381e-07\n",
      "Epoch 44/50\n",
      "791/791 [==============================] - 4s 5ms/step - loss: 1.4279e-05\n",
      "Epoch 45/50\n",
      "791/791 [==============================] - 5s 6ms/step - loss: 1.0472e-05\n",
      "Epoch 46/50\n",
      "791/791 [==============================] - 4s 5ms/step - loss: 3.0460e-06\n",
      "Epoch 47/50\n",
      "791/791 [==============================] - 5s 6ms/step - loss: 1.3279e-05\n",
      "Epoch 48/50\n",
      "791/791 [==============================] - 5s 7ms/step - loss: 8.8652e-06\n",
      "Epoch 49/50\n",
      "791/791 [==============================] - 5s 6ms/step - loss: 1.1688e-05\n",
      "Epoch 50/50\n",
      "791/791 [==============================] - 5s 6ms/step - loss: 4.6241e-05\n"
     ]
    },
    {
     "data": {
      "text/plain": [
       "<keras.src.callbacks.History at 0x1bf56a43790>"
      ]
     },
     "execution_count": 9,
     "metadata": {},
     "output_type": "execute_result"
    }
   ],
   "source": [
    "# Train the model :\n",
    "model.fit(x_train, y_train, epochs=50, batch_size=1, verbose=1)"
   ]
  },
  {
   "cell_type": "code",
   "execution_count": 10,
   "id": "d416069f",
   "metadata": {},
   "outputs": [
    {
     "name": "stdout",
     "output_type": "stream",
     "text": [
      "7/7 [==============================] - 2s 8ms/step - loss: 1.5207e-06\n",
      "𝐓𝐞𝐬𝐭 𝐋𝐨𝐬𝐬: 1.5206672969725332e-06\n"
     ]
    }
   ],
   "source": [
    "# Evaluate the model :\n",
    "loss = model.evaluate(x_test, y_test)\n",
    "print(f\"𝐓𝐞𝐬𝐭 𝐋𝐨𝐬𝐬: {loss}\")"
   ]
  },
  {
   "cell_type": "code",
   "execution_count": 11,
   "id": "27dd12ed",
   "metadata": {},
   "outputs": [
    {
     "name": "stdout",
     "output_type": "stream",
     "text": [
      "1/1 [==============================] - 1s 935ms/step\n",
      "𝐏𝐫𝐞𝐝𝐢𝐜𝐭𝐞𝐝 𝐕𝐚𝐥𝐮𝐞: -0.5898011326789856\n"
     ]
    }
   ],
   "source": [
    "# Predict the next value in the seq. :\n",
    "last_seq = x_test[-1].reshape(1, time_step, 1)\n",
    "pred_value = model.predict(last_seq)\n",
    "pred_value = scaler.inverse_transform(pred_value)\n",
    "print(f\"𝐏𝐫𝐞𝐝𝐢𝐜𝐭𝐞𝐝 𝐕𝐚𝐥𝐮𝐞: {pred_value[0][0]}\")"
   ]
  },
  {
   "cell_type": "markdown",
   "id": "b5903a1f",
   "metadata": {},
   "source": [
    "- 𝐄𝐱𝐚𝐦𝐩𝐥𝐞 𝐰𝐢𝐭𝐡 𝐒𝐭𝐚𝐜𝐤𝐞𝐝 𝐋𝐒𝐓𝐌 𝐚𝐧𝐝 𝐃𝐫𝐨𝐩𝐨𝐮𝐭 :"
   ]
  },
  {
   "cell_type": "code",
   "execution_count": 12,
   "id": "efecbf87",
   "metadata": {},
   "outputs": [],
   "source": [
    "# Example with Stacked LSTM and Dropout:\n",
    "from tensorflow.keras.layers import Dropout"
   ]
  },
  {
   "cell_type": "code",
   "execution_count": 13,
   "id": "8118097b",
   "metadata": {},
   "outputs": [],
   "source": [
    "# Create the stacked LSTM model :\n",
    "model = Sequential([\n",
    "    LSTM(50, return_sequences=True, input_shape=(time_step, 1)),\n",
    "    Dropout(0.2),\n",
    "    LSTM(50),\n",
    "    Dense(1)\n",
    "])"
   ]
  },
  {
   "cell_type": "code",
   "execution_count": 14,
   "id": "d10ce95f",
   "metadata": {},
   "outputs": [],
   "source": [
    "# same as before compile , train and evalyute the model:\n",
    "model.compile(optimizer=\"adam\", loss=\"mean_squared_error\")"
   ]
  },
  {
   "cell_type": "code",
   "execution_count": 15,
   "id": "d398fade",
   "metadata": {
    "scrolled": true
   },
   "outputs": [
    {
     "name": "stdout",
     "output_type": "stream",
     "text": [
      "Epoch 1/50\n",
      "791/791 [==============================] - 14s 10ms/step - loss: 0.0171\n",
      "Epoch 2/50\n",
      "791/791 [==============================] - 6s 8ms/step - loss: 0.0021\n",
      "Epoch 3/50\n",
      "791/791 [==============================] - 7s 8ms/step - loss: 0.0015\n",
      "Epoch 4/50\n",
      "791/791 [==============================] - 10s 13ms/step - loss: 0.0011\n",
      "Epoch 5/50\n",
      "791/791 [==============================] - 8s 10ms/step - loss: 0.0013\n",
      "Epoch 6/50\n",
      "791/791 [==============================] - 7s 8ms/step - loss: 0.0011\n",
      "Epoch 7/50\n",
      "791/791 [==============================] - 6s 8ms/step - loss: 6.8175e-04\n",
      "Epoch 8/50\n",
      "791/791 [==============================] - 6s 8ms/step - loss: 6.6038e-04\n",
      "Epoch 9/50\n",
      "791/791 [==============================] - 6s 8ms/step - loss: 6.8958e-04\n",
      "Epoch 10/50\n",
      "791/791 [==============================] - 6s 8ms/step - loss: 7.5709e-04\n",
      "Epoch 11/50\n",
      "791/791 [==============================] - 6s 8ms/step - loss: 6.0814e-04\n",
      "Epoch 12/50\n",
      "791/791 [==============================] - 6s 8ms/step - loss: 7.4117e-04\n",
      "Epoch 13/50\n",
      "791/791 [==============================] - 7s 9ms/step - loss: 5.7952e-04\n",
      "Epoch 14/50\n",
      "791/791 [==============================] - 6s 8ms/step - loss: 6.2504e-04\n",
      "Epoch 15/50\n",
      "791/791 [==============================] - 7s 8ms/step - loss: 5.1714e-04\n",
      "Epoch 16/50\n",
      "791/791 [==============================] - 6s 8ms/step - loss: 5.4575e-04\n",
      "Epoch 17/50\n",
      "791/791 [==============================] - 6s 8ms/step - loss: 7.0180e-04\n",
      "Epoch 18/50\n",
      "791/791 [==============================] - 6s 8ms/step - loss: 5.3553e-04\n",
      "Epoch 19/50\n",
      "791/791 [==============================] - 6s 7ms/step - loss: 4.2171e-04\n",
      "Epoch 20/50\n",
      "791/791 [==============================] - 6s 7ms/step - loss: 5.9083e-04\n",
      "Epoch 21/50\n",
      "791/791 [==============================] - 6s 8ms/step - loss: 4.7527e-04\n",
      "Epoch 22/50\n",
      "791/791 [==============================] - 6s 8ms/step - loss: 4.5725e-04\n",
      "Epoch 23/50\n",
      "791/791 [==============================] - 6s 8ms/step - loss: 4.2780e-04\n",
      "Epoch 24/50\n",
      "791/791 [==============================] - 7s 8ms/step - loss: 3.9353e-04\n",
      "Epoch 25/50\n",
      "791/791 [==============================] - 8s 10ms/step - loss: 3.8685e-04\n",
      "Epoch 26/50\n",
      "791/791 [==============================] - 6s 8ms/step - loss: 4.4365e-04\n",
      "Epoch 27/50\n",
      "791/791 [==============================] - 6s 8ms/step - loss: 3.4576e-04\n",
      "Epoch 28/50\n",
      "791/791 [==============================] - 9s 12ms/step - loss: 3.2000e-04\n",
      "Epoch 29/50\n",
      "791/791 [==============================] - 7s 9ms/step - loss: 3.6083e-04\n",
      "Epoch 30/50\n",
      "791/791 [==============================] - 7s 8ms/step - loss: 3.3892e-04\n",
      "Epoch 31/50\n",
      "791/791 [==============================] - 7s 9ms/step - loss: 4.4288e-04\n",
      "Epoch 32/50\n",
      "791/791 [==============================] - 6s 8ms/step - loss: 3.7817e-04\n",
      "Epoch 33/50\n",
      "791/791 [==============================] - 6s 7ms/step - loss: 3.1129e-04\n",
      "Epoch 34/50\n",
      "791/791 [==============================] - 6s 7ms/step - loss: 3.0340e-04\n",
      "Epoch 35/50\n",
      "791/791 [==============================] - 6s 7ms/step - loss: 2.9154e-04\n",
      "Epoch 36/50\n",
      "791/791 [==============================] - 6s 7ms/step - loss: 3.2724e-04\n",
      "Epoch 37/50\n",
      "791/791 [==============================] - 6s 7ms/step - loss: 3.8121e-04\n",
      "Epoch 38/50\n",
      "791/791 [==============================] - 6s 8ms/step - loss: 3.7883e-04\n",
      "Epoch 39/50\n",
      "791/791 [==============================] - 7s 9ms/step - loss: 2.8178e-04\n",
      "Epoch 40/50\n",
      "791/791 [==============================] - 6s 8ms/step - loss: 2.7430e-04\n",
      "Epoch 41/50\n",
      "791/791 [==============================] - 6s 8ms/step - loss: 2.6831e-04\n",
      "Epoch 42/50\n",
      "791/791 [==============================] - 6s 8ms/step - loss: 2.8363e-04\n",
      "Epoch 43/50\n",
      "791/791 [==============================] - 6s 8ms/step - loss: 2.8954e-04\n",
      "Epoch 44/50\n",
      "791/791 [==============================] - 6s 8ms/step - loss: 2.4751e-04\n",
      "Epoch 45/50\n",
      "791/791 [==============================] - 7s 8ms/step - loss: 2.9306e-04\n",
      "Epoch 46/50\n",
      "791/791 [==============================] - 6s 8ms/step - loss: 2.6096e-04\n",
      "Epoch 47/50\n",
      "791/791 [==============================] - 6s 8ms/step - loss: 2.4212e-04\n",
      "Epoch 48/50\n",
      "791/791 [==============================] - 6s 7ms/step - loss: 2.2076e-04\n",
      "Epoch 49/50\n",
      "791/791 [==============================] - 6s 8ms/step - loss: 2.6727e-04\n",
      "Epoch 50/50\n",
      "791/791 [==============================] - 6s 8ms/step - loss: 2.0242e-04\n"
     ]
    },
    {
     "data": {
      "text/plain": [
       "<keras.src.callbacks.History at 0x1bf60781310>"
      ]
     },
     "execution_count": 15,
     "metadata": {},
     "output_type": "execute_result"
    }
   ],
   "source": [
    "model.fit(x_train, y_train, epochs=50, batch_size=1, verbose=1)"
   ]
  },
  {
   "cell_type": "code",
   "execution_count": 16,
   "id": "011797f5",
   "metadata": {},
   "outputs": [
    {
     "name": "stdout",
     "output_type": "stream",
     "text": [
      "𝐓𝐞𝐬𝐭 𝐋𝐨𝐬𝐬: 9.328666783403605e-05\n"
     ]
    }
   ],
   "source": [
    "loss = model.evaluate(x_test, y_test, verbose=0)\n",
    "print(f\"𝐓𝐞𝐬𝐭 𝐋𝐨𝐬𝐬: {loss}\")"
   ]
  },
  {
   "cell_type": "markdown",
   "id": "f8ab186d",
   "metadata": {},
   "source": [
    "- 𝐂𝐨𝐧𝐜𝐞𝐩𝐭 :\n",
    "\n",
    "𝐋𝐨𝐧𝐠 𝐒𝐡𝐨𝐫𝐭-𝐓𝐞𝐫𝐦 𝐌𝐞𝐦𝐨𝐫𝐲 (𝐋𝐒𝐓𝐌) is a special type of Recurrent Neural Network (RNN) designed to overcome the limitations of traditional RNNs, specifically the vanishing and exploding gradient problems. LSTMs are capable of learning long-term dependencies, making them well-suited for tasks involving sequential data."
   ]
  },
  {
   "cell_type": "markdown",
   "id": "41d7c0c5",
   "metadata": {},
   "source": [
    "𝐊𝐞𝐲 𝐅𝐞𝐚𝐭𝐮𝐫𝐞𝐬 𝐨𝐟 𝐋𝐒𝐓𝐌 :\n",
    "1. 𝐌𝐞𝐦𝐨𝐫𝐲 𝐂𝐞𝐥𝐥: Maintains information over long periods.\n",
    "2. 𝐆𝐚𝐭𝐞𝐬: Control the flow of information.\n",
    "   - 𝐅𝐨𝐫𝐠𝐞𝐭 𝐆𝐚𝐭𝐞: Decides what information to discard.\n",
    "   - 𝐈𝐧𝐩𝐮𝐭 𝐆𝐚𝐭𝐞: Decides what new information to store.\n",
    "   - 𝐎𝐮𝐭𝐩𝐮𝐭 𝐆𝐚𝐭𝐞: Decides what information to output.\n",
    "3. 𝐂𝐞𝐥𝐥 𝐒𝐭𝐚𝐭𝐞: Acts as a highway, carrying information across time steps."
   ]
  },
  {
   "cell_type": "markdown",
   "id": "ca629618",
   "metadata": {},
   "source": [
    "𝐊𝐞𝐲 𝐒𝐭𝐞𝐩𝐬 :\n",
    "- 𝐅𝐨𝐫𝐠𝐞𝐭 𝐆𝐚𝐭𝐞: Uses a sigmoid function to decide which parts of the cell state to forget.\n",
    "- 𝐈𝐧𝐩𝐮𝐭 𝐆𝐚𝐭𝐞: Uses a sigmoid function to decide which parts of the new information to update.\n",
    "- 𝐂𝐞𝐥𝐥 𝐒𝐭𝐚𝐭𝐞 𝐔𝐩𝐝𝐚𝐭𝐞: Combines the old cell state and the new information.\n",
    "- 𝐎𝐮𝐭𝐩𝐮𝐭 𝐆𝐚𝐭𝐞: Uses a sigmoid function to decide what to output based on the updated cell state."
   ]
  },
  {
   "cell_type": "markdown",
   "id": "15a31c44",
   "metadata": {},
   "source": [
    "𝐀𝐝𝐯𝐚𝐧𝐜𝐞𝐝 𝐅𝐞𝐚𝐭𝐮𝐫𝐞𝐬 𝐨𝐟 𝐋𝐒𝐓𝐌𝐬 :\n",
    "\n",
    "1. 𝐁𝐢𝐝𝐢𝐫𝐞𝐜𝐭𝐢𝐨𝐧𝐚𝐥 𝐋𝐒𝐓𝐌: Processes the sequence in both forward and backward directions.\n",
    "2. 𝐒𝐭𝐚𝐜𝐤𝐞𝐝 𝐋𝐒𝐓𝐌: Uses multiple LSTM layers to capture more complex patterns.\n",
    "3. 𝐀𝐭𝐭𝐞𝐧𝐭𝐢𝐨𝐧 𝐌𝐞𝐜𝐡𝐚𝐧𝐢𝐬𝐦𝐬: Allows the model to focus on important parts of the sequence.\n",
    "4. 𝐃𝐫𝐨𝐩𝐨𝐮𝐭 𝐑𝐞𝐠𝐮𝐥𝐚𝐫𝐢𝐳𝐚𝐭𝐢𝐨𝐧: Prevents overfitting by randomly dropping units during training.\n",
    "5. 𝐁𝐚𝐭𝐜𝐡 𝐍𝐨𝐫𝐦𝐚𝐥𝐢𝐳𝐚𝐭𝐢𝐨𝐧: Normalizes the inputs to each layer, improving training speed and stability."
   ]
  },
  {
   "cell_type": "markdown",
   "id": "1e6aee27",
   "metadata": {},
   "source": [
    "𝐀𝐩𝐩𝐥𝐢𝐜𝐚𝐭𝐢𝐨𝐧𝐬 :\n",
    "\n",
    "LSTMs are widely used in various fields such as:\n",
    "- 𝐍𝐚𝐭𝐮𝐫𝐚𝐥 𝐋𝐚𝐧𝐠𝐮𝐚𝐠𝐞 𝐏𝐫𝐨𝐜𝐞𝐬𝐬𝐢𝐧𝐠 (𝐍𝐋𝐏): Language modeling, machine translation, text generation.\n",
    "- 𝐓𝐢𝐦𝐞 𝐒𝐞𝐫𝐢𝐞𝐬 𝐀𝐧𝐚𝐥𝐲𝐬𝐢𝐬: Stock price prediction, weather forecasting, anomaly detection.\n",
    "- 𝐒𝐩𝐞𝐞𝐜𝐡 𝐑𝐞𝐜𝐨𝐠𝐧𝐢𝐭𝐢𝐨𝐧: Transcribing spoken language into text.\n",
    "- 𝐕𝐢𝐝𝐞𝐨 𝐀𝐧𝐚𝐥𝐲𝐬𝐢𝐬: Activity recognition, video captioning.\n",
    "- 𝐌𝐮𝐬𝐢𝐜 𝐆𝐞𝐧𝐞𝐫𝐚𝐭𝐢𝐨𝐧: Composing music by predicting sequences of notes."
   ]
  },
  {
   "cell_type": "markdown",
   "id": "8ff44e10",
   "metadata": {},
   "source": [
    "- 𝐋𝐒𝐓𝐌𝐬' 𝐚𝐛𝐢𝐥𝐢𝐭𝐲 𝐭𝐨 𝐜𝐚𝐩𝐭𝐮𝐫𝐞 𝐥𝐨𝐧𝐠-𝐭𝐞𝐫𝐦 𝐝𝐞𝐩𝐞𝐧𝐝𝐞𝐧𝐜𝐢𝐞𝐬 𝐦𝐚𝐤𝐞𝐬 𝐭𝐡𝐞𝐦 𝐡𝐢𝐠𝐡𝐥𝐲 𝐞𝐟𝐟𝐞𝐜𝐭𝐢𝐯𝐞 𝐟𝐨𝐫 𝐬𝐞𝐪𝐮𝐞𝐧𝐭𝐢𝐚𝐥 𝐝𝐚𝐭𝐚 𝐭𝐚𝐬𝐤𝐬."
   ]
  },
  {
   "cell_type": "code",
   "execution_count": null,
   "id": "8eb26103",
   "metadata": {},
   "outputs": [],
   "source": []
  }
 ],
 "metadata": {
  "kernelspec": {
   "display_name": "Python 3 (ipykernel)",
   "language": "python",
   "name": "python3"
  },
  "language_info": {
   "codemirror_mode": {
    "name": "ipython",
    "version": 3
   },
   "file_extension": ".py",
   "mimetype": "text/x-python",
   "name": "python",
   "nbconvert_exporter": "python",
   "pygments_lexer": "ipython3",
   "version": "3.11.5"
  }
 },
 "nbformat": 4,
 "nbformat_minor": 5
}
