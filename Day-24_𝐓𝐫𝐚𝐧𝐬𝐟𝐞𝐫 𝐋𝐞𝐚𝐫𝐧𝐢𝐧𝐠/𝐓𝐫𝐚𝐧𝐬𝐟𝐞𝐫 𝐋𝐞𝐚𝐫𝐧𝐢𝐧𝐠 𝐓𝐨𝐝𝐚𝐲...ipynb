{
 "cells": [
  {
   "cell_type": "markdown",
   "id": "b37ed2d7",
   "metadata": {},
   "source": [
    "# - 𝐓𝐫𝐚𝐧𝐬𝐟𝐞𝐫 𝐋𝐞𝐚𝐫𝐧𝐢𝐧𝐠.."
   ]
  },
  {
   "cell_type": "code",
   "execution_count": 1,
   "id": "fc540ef2",
   "metadata": {},
   "outputs": [
    {
     "name": "stdout",
     "output_type": "stream",
     "text": [
      "WARNING:tensorflow:From C:\\Users\\kunal\\anaconda3\\Lib\\site-packages\\keras\\src\\losses.py:2976: The name tf.losses.sparse_softmax_cross_entropy is deprecated. Please use tf.compat.v1.losses.sparse_softmax_cross_entropy instead.\n",
      "\n"
     ]
    }
   ],
   "source": [
    "# import library :\n",
    "import numpy as np\n",
    "import tensorflow as tf\n",
    "from tensorflow.keras.applications import VGG16\n",
    "from tensorflow.keras.datasets import cifar10\n",
    "from tensorflow.keras.models import Sequential\n",
    "from tensorflow.keras.layers import Dense, Flatten, Dropout\n",
    "from tensorflow.keras.optimizers import Adam"
   ]
  },
  {
   "cell_type": "code",
   "execution_count": 2,
   "id": "494bf928",
   "metadata": {},
   "outputs": [],
   "source": [
    "# Load the cifar10 dataseta :\n",
    "(x_train, y_train), (x_test, y_test) = cifar10.load_data()"
   ]
  },
  {
   "cell_type": "code",
   "execution_count": 3,
   "id": "fff65276",
   "metadata": {},
   "outputs": [],
   "source": [
    "# preprocess the data :\n",
    "x_train = x_train.astype(\"float32\") / 255.0\n",
    "x_test = x_test.astype(\"float32\") / 255.0"
   ]
  },
  {
   "cell_type": "code",
   "execution_count": 4,
   "id": "af17ce32",
   "metadata": {},
   "outputs": [
    {
     "name": "stdout",
     "output_type": "stream",
     "text": [
      "WARNING:tensorflow:From C:\\Users\\kunal\\anaconda3\\Lib\\site-packages\\keras\\src\\backend.py:1398: The name tf.executing_eagerly_outside_functions is deprecated. Please use tf.compat.v1.executing_eagerly_outside_functions instead.\n",
      "\n",
      "WARNING:tensorflow:From C:\\Users\\kunal\\anaconda3\\Lib\\site-packages\\keras\\src\\layers\\pooling\\max_pooling2d.py:161: The name tf.nn.max_pool is deprecated. Please use tf.nn.max_pool2d instead.\n",
      "\n"
     ]
    }
   ],
   "source": [
    "# Load pre-trained VGG16 model (excluding top layers) :\n",
    "base_model = VGG16(weights=\"imagenet\", include_top=False, input_shape=(32, 32, 3))"
   ]
  },
  {
   "cell_type": "code",
   "execution_count": 5,
   "id": "e63b2c3c",
   "metadata": {},
   "outputs": [
    {
     "data": {
      "text/plain": [
       "<keras.src.engine.functional.Functional at 0x185d5317b10>"
      ]
     },
     "execution_count": 5,
     "metadata": {},
     "output_type": "execute_result"
    }
   ],
   "source": [
    "base_model"
   ]
  },
  {
   "cell_type": "code",
   "execution_count": 6,
   "id": "8c46613b",
   "metadata": {},
   "outputs": [],
   "source": [
    "#Freze thw layer in base model :\n",
    "for layer in base_model.layers:\n",
    "    layer.trainable = False"
   ]
  },
  {
   "cell_type": "code",
   "execution_count": 7,
   "id": "748e543e",
   "metadata": {},
   "outputs": [],
   "source": [
    "# create a new model on the pre-trained base model :\n",
    "model = Sequential([\n",
    "    base_model,\n",
    "    Flatten(),\n",
    "    Dense(512, activation=\"relu\"),\n",
    "    Dropout(0.5),\n",
    "    Dense(10, activation=\"softmax\")\n",
    "])"
   ]
  },
  {
   "cell_type": "code",
   "execution_count": 8,
   "id": "a81fbd25",
   "metadata": {},
   "outputs": [],
   "source": [
    "# compile the model :\n",
    "model.compile(optimizer=Adam(learning_rate=0.0001),\n",
    "             loss=\"sparse_categorical_crossentropy\", metrics=[\"Accuracy\"])"
   ]
  },
  {
   "cell_type": "code",
   "execution_count": 9,
   "id": "5b1894c0",
   "metadata": {
    "scrolled": false
   },
   "outputs": [
    {
     "name": "stdout",
     "output_type": "stream",
     "text": [
      "Epoch 1/10\n",
      "WARNING:tensorflow:From C:\\Users\\kunal\\anaconda3\\Lib\\site-packages\\keras\\src\\utils\\tf_utils.py:492: The name tf.ragged.RaggedTensorValue is deprecated. Please use tf.compat.v1.ragged.RaggedTensorValue instead.\n",
      "\n",
      "WARNING:tensorflow:From C:\\Users\\kunal\\anaconda3\\Lib\\site-packages\\keras\\src\\engine\\base_layer_utils.py:384: The name tf.executing_eagerly_outside_functions is deprecated. Please use tf.compat.v1.executing_eagerly_outside_functions instead.\n",
      "\n",
      "391/391 [==============================] - 422s 1s/step - loss: 1.9240 - Accuracy: 0.3166 - val_loss: 1.5944 - val_Accuracy: 0.4632\n",
      "Epoch 2/10\n",
      "391/391 [==============================] - 418s 1s/step - loss: 1.5690 - Accuracy: 0.4554 - val_loss: 1.4498 - val_Accuracy: 0.5062\n",
      "Epoch 3/10\n",
      "391/391 [==============================] - 882s 2s/step - loss: 1.4601 - Accuracy: 0.4966 - val_loss: 1.3806 - val_Accuracy: 0.5244\n",
      "Epoch 4/10\n",
      "391/391 [==============================] - 414s 1s/step - loss: 1.3961 - Accuracy: 0.5161 - val_loss: 1.3379 - val_Accuracy: 0.5377\n",
      "Epoch 5/10\n",
      "391/391 [==============================] - 417s 1s/step - loss: 1.3523 - Accuracy: 0.5330 - val_loss: 1.3065 - val_Accuracy: 0.5486\n",
      "Epoch 6/10\n",
      "391/391 [==============================] - 420s 1s/step - loss: 1.3210 - Accuracy: 0.5418 - val_loss: 1.2866 - val_Accuracy: 0.5536\n",
      "Epoch 7/10\n",
      "391/391 [==============================] - 1070s 3s/step - loss: 1.2936 - Accuracy: 0.5483 - val_loss: 1.2646 - val_Accuracy: 0.5620\n",
      "Epoch 8/10\n",
      "391/391 [==============================] - 414s 1s/step - loss: 1.2721 - Accuracy: 0.5556 - val_loss: 1.2493 - val_Accuracy: 0.5645\n",
      "Epoch 9/10\n",
      "391/391 [==============================] - 422s 1s/step - loss: 1.2532 - Accuracy: 0.5639 - val_loss: 1.2358 - val_Accuracy: 0.5703\n",
      "Epoch 10/10\n",
      "391/391 [==============================] - 415s 1s/step - loss: 1.2355 - Accuracy: 0.5708 - val_loss: 1.2252 - val_Accuracy: 0.5746\n"
     ]
    }
   ],
   "source": [
    "# Train the model :\n",
    "history = model.fit(x_train, y_train, epochs=10, batch_size=128,\n",
    "                   validation_data=(x_test, y_test))"
   ]
  },
  {
   "cell_type": "code",
   "execution_count": 10,
   "id": "dd9245f7",
   "metadata": {},
   "outputs": [
    {
     "name": "stdout",
     "output_type": "stream",
     "text": [
      "313/313 [==============================] - 102s 325ms/step - loss: 1.2252 - Accuracy: 0.5746\n",
      "𝐅𝐢𝐧𝐞-𝐭𝐮𝐧𝐞𝐝 𝐭𝐞𝐬𝐭 𝐚𝐜𝐜𝐮𝐫𝐚𝐜𝐲: 0.5745999813079834\n"
     ]
    }
   ],
   "source": [
    "# Evaluate the fine-tuned model\n",
    "test_loss, test_acc = model.evaluate(x_test, y_test)\n",
    "print(f'𝐅𝐢𝐧𝐞-𝐭𝐮𝐧𝐞𝐝 𝐭𝐞𝐬𝐭 𝐚𝐜𝐜𝐮𝐫𝐚𝐜𝐲: {test_acc}')"
   ]
  },
  {
   "cell_type": "markdown",
   "id": "a956c51d",
   "metadata": {},
   "source": [
    "- 𝐂𝐨𝐧𝐜𝐞𝐩𝐭 :\n",
    "\n",
    "Transfer learning is a machine learning technique where a model trained on one task is re-purposed on a second related task. It leverages the knowledge gained from the source task to improve learning in the target task, especially when the target dataset is small or different from the source dataset."
   ]
  },
  {
   "cell_type": "markdown",
   "id": "f0fa484a",
   "metadata": {},
   "source": [
    "𝐊𝐞𝐲 𝐀𝐬𝐩𝐞𝐜𝐭𝐬 :\n",
    "\n",
    "- 𝐏𝐫𝐞-𝐭𝐫𝐚𝐢𝐧𝐞𝐝 𝐌𝐨𝐝𝐞𝐥𝐬: Utilize models trained on large-scale datasets like ImageNet, which have learned rich feature representations from extensive data.\n",
    "   \n",
    "- 𝐅𝐢𝐧𝐞-𝐭𝐮𝐧𝐢𝐧𝐠: Adapt pre-trained models to new tasks by updating weights during training on the target dataset. Fine-tuning allows the model to adjust its learned representations to fit the new task better.\n",
    "\n",
    "- 𝐃𝐨𝐦𝐚𝐢𝐧 𝐀𝐝𝐚𝐩𝐭𝐚𝐭𝐢𝐨𝐧: Adjusting a model trained on one distribution (source domain) to perform well on another distribution (target domain) with different characteristics."
   ]
  },
  {
   "cell_type": "markdown",
   "id": "185f5d49",
   "metadata": {},
   "source": [
    "𝐈𝐦𝐩𝐥𝐞𝐦𝐞𝐧𝐭𝐚𝐭𝐢𝐨𝐧 𝐒𝐭𝐞𝐩𝐬\n",
    "\n",
    "𝟏. 𝐒𝐞𝐥𝐞𝐜𝐭 𝐚 𝐏𝐫𝐞-𝐭𝐫𝐚𝐢𝐧𝐞𝐝 𝐌𝐨𝐝𝐞𝐥: Choose a model pre-trained on a large dataset relevant to your task (e.g., VGG, ResNet, BERT).\n",
    "\n",
    "𝟐. 𝐀𝐝𝐚𝐩𝐭𝐚𝐭𝐢𝐨𝐧 𝐭𝐨 𝐍𝐞𝐰 𝐓𝐚𝐬𝐤: \n",
    "   - 𝐅𝐞𝐚𝐭𝐮𝐫𝐞 𝐄𝐱𝐭𝐫𝐚𝐜𝐭𝐢𝐨𝐧: Freeze most layers of the pre-trained model and extract features from intermediate layers for the new dataset.\n",
    "   - 𝐅𝐢𝐧𝐞-𝐭𝐮𝐧𝐢𝐧𝐠: Fine-tune the entire model or only a few top layers on the new dataset with a lower learning rate to avoid overfitting.\n",
    "\n",
    "3. 𝐄𝐯𝐚𝐥𝐮𝐚𝐭𝐢𝐨𝐧: Evaluate the performance of the adapted model on the target task using appropriate metrics (e.g., accuracy, precision, recall)."
   ]
  },
  {
   "cell_type": "markdown",
   "id": "33d937b2",
   "metadata": {},
   "source": [
    "𝐀𝐩𝐩𝐥𝐢𝐜𝐚𝐭𝐢𝐨𝐧𝐬 :\n",
    "\n",
    "Transfer learning is widely used in:\n",
    "    \n",
    "- 𝐂𝐨𝐦𝐩𝐮𝐭𝐞𝐫 𝐕𝐢𝐬𝐢𝐨𝐧: Image classification, object detection, and segmentation.\n",
    "- 𝐍𝐚𝐭𝐮𝐫𝐚𝐥 𝐋𝐚𝐧𝐠𝐮𝐚𝐠𝐞 𝐏𝐫𝐨𝐜𝐞𝐬𝐬𝐢𝐧𝐠: Text classification, sentiment analysis, and language translation.\n",
    "- 𝐀𝐮𝐝𝐢𝐨 𝐏𝐫𝐨𝐜𝐞𝐬𝐬𝐢𝐧𝐠: Speech recognition and sound classification."
   ]
  },
  {
   "cell_type": "markdown",
   "id": "3d629835",
   "metadata": {},
   "source": [
    "𝐀𝐝𝐯𝐚𝐧𝐭𝐚𝐠𝐞𝐬 :\n",
    "\n",
    "- 𝐑𝐞𝐝𝐮𝐜𝐞𝐝 𝐓𝐫𝐚𝐢𝐧𝐢𝐧𝐠 𝐓𝐢𝐦𝐞: Leveraging pre-trained models reduces the need for training from scratch.\n",
    "- 𝐈𝐦𝐩𝐫𝐨𝐯𝐞𝐝 𝐏𝐞𝐫𝐟𝐨𝐫𝐦𝐚𝐧𝐜𝐞: Transfer learning can improve model accuracy, especially with limited labeled data.\n",
    "- 𝐁𝐫𝐨𝐚𝐝𝐞𝐫 𝐀𝐩𝐩𝐥𝐢𝐜𝐚𝐛𝐢𝐥𝐢𝐭𝐲: Models trained on diverse datasets can be adapted to various real-world applications."
   ]
  },
  {
   "cell_type": "code",
   "execution_count": null,
   "id": "b4f571a0",
   "metadata": {},
   "outputs": [],
   "source": []
  }
 ],
 "metadata": {
  "kernelspec": {
   "display_name": "Python 3 (ipykernel)",
   "language": "python",
   "name": "python3"
  },
  "language_info": {
   "codemirror_mode": {
    "name": "ipython",
    "version": 3
   },
   "file_extension": ".py",
   "mimetype": "text/x-python",
   "name": "python",
   "nbconvert_exporter": "python",
   "pygments_lexer": "ipython3",
   "version": "3.11.5"
  }
 },
 "nbformat": 4,
 "nbformat_minor": 5
}
