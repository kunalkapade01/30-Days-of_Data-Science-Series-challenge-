{
 "cells": [
  {
   "cell_type": "markdown",
   "id": "66079a77",
   "metadata": {},
   "source": [
    "# 𝐀𝐮𝐭𝐨𝐞𝐧𝐜𝐨𝐝𝐞𝐫𝐬 :-"
   ]
  },
  {
   "cell_type": "markdown",
   "id": "5f42a2d3",
   "metadata": {},
   "source": [
    " - 𝐀𝐮𝐭𝐨𝐞𝐧𝐜𝐨𝐝𝐞𝐫𝐬 𝐚𝐫𝐞 𝐧𝐞𝐮𝐫𝐚𝐥 𝐧𝐞𝐭𝐰𝐨𝐫𝐤𝐬 𝐮𝐬𝐞𝐝 𝐟𝐨𝐫 𝐮𝐧𝐬𝐮𝐩𝐞𝐫𝐯𝐢𝐬𝐞𝐝 𝐥𝐞𝐚𝐫𝐧𝐢𝐧𝐠 𝐭𝐚𝐬𝐤𝐬"
   ]
  },
  {
   "cell_type": "code",
   "execution_count": 1,
   "id": "6f4a15b8",
   "metadata": {},
   "outputs": [
    {
     "name": "stdout",
     "output_type": "stream",
     "text": [
      "WARNING:tensorflow:From C:\\Users\\kunal\\anaconda3\\Lib\\site-packages\\keras\\src\\losses.py:2976: The name tf.losses.sparse_softmax_cross_entropy is deprecated. Please use tf.compat.v1.losses.sparse_softmax_cross_entropy instead.\n",
      "\n"
     ]
    }
   ],
   "source": [
    "# Import necessary library :\n",
    "import numpy as np\n",
    "import matplotlib.pyplot as plt\n",
    "from tensorflow.keras.layers import Input, Dense\n",
    "from tensorflow.keras.models import Model\n",
    "from tensorflow.keras.datasets import mnist"
   ]
  },
  {
   "cell_type": "code",
   "execution_count": 2,
   "id": "0787b33a",
   "metadata": {},
   "outputs": [],
   "source": [
    "# Load the mnist datassets :\n",
    "(x_train, _), (x_test, _) = mnist.load_data()"
   ]
  },
  {
   "cell_type": "code",
   "execution_count": 3,
   "id": "2d53fe71",
   "metadata": {},
   "outputs": [],
   "source": [
    "x_train = x_train.astype(\"float32\") / 255.\n",
    "x_test = x_test.astype(\"float32\") / 255.\n",
    "\n",
    "x_train = x_train.reshape((len(x_train), np.prod(x_train.shape[1:])))\n",
    "x_test = x_test.reshape((len(x_test), np.prod(x_test.shape[1:])))"
   ]
  },
  {
   "cell_type": "code",
   "execution_count": 4,
   "id": "12afa6e8",
   "metadata": {},
   "outputs": [],
   "source": [
    "# Define the autoencoder architecture :\n",
    "input_dim = x_train.shape[1]\n",
    "encoding_dim = 32"
   ]
  },
  {
   "cell_type": "code",
   "execution_count": 5,
   "id": "534ef5d1",
   "metadata": {},
   "outputs": [
    {
     "name": "stdout",
     "output_type": "stream",
     "text": [
      "WARNING:tensorflow:From C:\\Users\\kunal\\anaconda3\\Lib\\site-packages\\keras\\src\\backend.py:1398: The name tf.executing_eagerly_outside_functions is deprecated. Please use tf.compat.v1.executing_eagerly_outside_functions instead.\n",
      "\n"
     ]
    }
   ],
   "source": [
    "# Encoder :\n",
    "input_img = Input(shape=(input_dim))\n",
    "encoder = Dense(encoding_dim, activation=\"relu\")(input_img)"
   ]
  },
  {
   "cell_type": "code",
   "execution_count": 6,
   "id": "909e1d21",
   "metadata": {},
   "outputs": [],
   "source": [
    "# Decoder :\n",
    "decoder = Dense(input_dim, activation=\"sigmoid\")(encoder)"
   ]
  },
  {
   "cell_type": "code",
   "execution_count": 7,
   "id": "ed775f74",
   "metadata": {},
   "outputs": [],
   "source": [
    "# Autoencoder model :\n",
    "autoencoder = Model(input_img, decoder)"
   ]
  },
  {
   "cell_type": "code",
   "execution_count": 8,
   "id": "2286ba9a",
   "metadata": {},
   "outputs": [
    {
     "name": "stdout",
     "output_type": "stream",
     "text": [
      "WARNING:tensorflow:From C:\\Users\\kunal\\anaconda3\\Lib\\site-packages\\keras\\src\\optimizers\\__init__.py:309: The name tf.train.Optimizer is deprecated. Please use tf.compat.v1.train.Optimizer instead.\n",
      "\n"
     ]
    }
   ],
   "source": [
    "# Compile the model :\n",
    "autoencoder.compile(optimizer=\"adam\", loss=\"binary_crossentropy\")"
   ]
  },
  {
   "cell_type": "code",
   "execution_count": 9,
   "id": "484c002a",
   "metadata": {},
   "outputs": [
    {
     "name": "stdout",
     "output_type": "stream",
     "text": [
      "Epoch 1/50\n",
      "WARNING:tensorflow:From C:\\Users\\kunal\\anaconda3\\Lib\\site-packages\\keras\\src\\utils\\tf_utils.py:492: The name tf.ragged.RaggedTensorValue is deprecated. Please use tf.compat.v1.ragged.RaggedTensorValue instead.\n",
      "\n",
      "235/235 [==============================] - 4s 11ms/step - loss: 0.2740 - val_loss: 0.1902\n",
      "Epoch 2/50\n",
      "235/235 [==============================] - 2s 8ms/step - loss: 0.1709 - val_loss: 0.1537\n",
      "Epoch 3/50\n",
      "235/235 [==============================] - 2s 8ms/step - loss: 0.1439 - val_loss: 0.1330\n",
      "Epoch 4/50\n",
      "235/235 [==============================] - 2s 8ms/step - loss: 0.1278 - val_loss: 0.1206\n",
      "Epoch 5/50\n",
      "235/235 [==============================] - 2s 9ms/step - loss: 0.1179 - val_loss: 0.1128\n",
      "Epoch 6/50\n",
      "235/235 [==============================] - 2s 10ms/step - loss: 0.1113 - val_loss: 0.1072\n",
      "Epoch 7/50\n",
      "235/235 [==============================] - 2s 8ms/step - loss: 0.1064 - val_loss: 0.1029\n",
      "Epoch 8/50\n",
      "235/235 [==============================] - 2s 8ms/step - loss: 0.1025 - val_loss: 0.0995\n",
      "Epoch 9/50\n",
      "235/235 [==============================] - 2s 9ms/step - loss: 0.0996 - val_loss: 0.0972\n",
      "Epoch 10/50\n",
      "235/235 [==============================] - 2s 8ms/step - loss: 0.0976 - val_loss: 0.0955\n",
      "Epoch 11/50\n",
      "235/235 [==============================] - 2s 8ms/step - loss: 0.0962 - val_loss: 0.0943\n",
      "Epoch 12/50\n",
      "235/235 [==============================] - 2s 8ms/step - loss: 0.0953 - val_loss: 0.0937\n",
      "Epoch 13/50\n",
      "235/235 [==============================] - 3s 11ms/step - loss: 0.0947 - val_loss: 0.0932\n",
      "Epoch 14/50\n",
      "235/235 [==============================] - 3s 12ms/step - loss: 0.0943 - val_loss: 0.0929\n",
      "Epoch 15/50\n",
      "235/235 [==============================] - 3s 11ms/step - loss: 0.0941 - val_loss: 0.0926\n",
      "Epoch 16/50\n",
      "235/235 [==============================] - 2s 9ms/step - loss: 0.0938 - val_loss: 0.0924\n",
      "Epoch 17/50\n",
      "235/235 [==============================] - 2s 10ms/step - loss: 0.0937 - val_loss: 0.0923\n",
      "Epoch 18/50\n",
      "235/235 [==============================] - 2s 10ms/step - loss: 0.0935 - val_loss: 0.0922\n",
      "Epoch 19/50\n",
      "235/235 [==============================] - 2s 8ms/step - loss: 0.0934 - val_loss: 0.0921\n",
      "Epoch 20/50\n",
      "235/235 [==============================] - 2s 9ms/step - loss: 0.0933 - val_loss: 0.0920\n",
      "Epoch 21/50\n",
      "235/235 [==============================] - 2s 10ms/step - loss: 0.0933 - val_loss: 0.0920\n",
      "Epoch 22/50\n",
      "235/235 [==============================] - 2s 8ms/step - loss: 0.0932 - val_loss: 0.0919\n",
      "Epoch 23/50\n",
      "235/235 [==============================] - 2s 8ms/step - loss: 0.0931 - val_loss: 0.0920\n",
      "Epoch 24/50\n",
      "235/235 [==============================] - 2s 8ms/step - loss: 0.0931 - val_loss: 0.0918\n",
      "Epoch 25/50\n",
      "235/235 [==============================] - 3s 11ms/step - loss: 0.0930 - val_loss: 0.0919\n",
      "Epoch 26/50\n",
      "235/235 [==============================] - 3s 11ms/step - loss: 0.0930 - val_loss: 0.0918\n",
      "Epoch 27/50\n",
      "235/235 [==============================] - 3s 12ms/step - loss: 0.0930 - val_loss: 0.0919\n",
      "Epoch 28/50\n",
      "235/235 [==============================] - 3s 12ms/step - loss: 0.0929 - val_loss: 0.0916\n",
      "Epoch 29/50\n",
      "235/235 [==============================] - 3s 12ms/step - loss: 0.0929 - val_loss: 0.0917\n",
      "Epoch 30/50\n",
      "235/235 [==============================] - 2s 8ms/step - loss: 0.0929 - val_loss: 0.0916\n",
      "Epoch 31/50\n",
      "235/235 [==============================] - 3s 11ms/step - loss: 0.0928 - val_loss: 0.0916\n",
      "Epoch 32/50\n",
      "235/235 [==============================] - 2s 9ms/step - loss: 0.0928 - val_loss: 0.0916\n",
      "Epoch 33/50\n",
      "235/235 [==============================] - 2s 8ms/step - loss: 0.0928 - val_loss: 0.0916\n",
      "Epoch 34/50\n",
      "235/235 [==============================] - 2s 9ms/step - loss: 0.0928 - val_loss: 0.0916\n",
      "Epoch 35/50\n",
      "235/235 [==============================] - 2s 8ms/step - loss: 0.0928 - val_loss: 0.0915\n",
      "Epoch 36/50\n",
      "235/235 [==============================] - 2s 8ms/step - loss: 0.0927 - val_loss: 0.0915\n",
      "Epoch 37/50\n",
      "235/235 [==============================] - 2s 9ms/step - loss: 0.0927 - val_loss: 0.0915\n",
      "Epoch 38/50\n",
      "235/235 [==============================] - 2s 8ms/step - loss: 0.0927 - val_loss: 0.0915\n",
      "Epoch 39/50\n",
      "235/235 [==============================] - 2s 9ms/step - loss: 0.0927 - val_loss: 0.0916\n",
      "Epoch 40/50\n",
      "235/235 [==============================] - 2s 9ms/step - loss: 0.0927 - val_loss: 0.0915\n",
      "Epoch 41/50\n",
      "235/235 [==============================] - 2s 8ms/step - loss: 0.0927 - val_loss: 0.0915\n",
      "Epoch 42/50\n",
      "235/235 [==============================] - 2s 9ms/step - loss: 0.0927 - val_loss: 0.0914\n",
      "Epoch 43/50\n",
      "235/235 [==============================] - 2s 8ms/step - loss: 0.0926 - val_loss: 0.0915\n",
      "Epoch 44/50\n",
      "235/235 [==============================] - 2s 8ms/step - loss: 0.0926 - val_loss: 0.0914\n",
      "Epoch 45/50\n",
      "235/235 [==============================] - 2s 8ms/step - loss: 0.0926 - val_loss: 0.0915\n",
      "Epoch 46/50\n",
      "235/235 [==============================] - 2s 8ms/step - loss: 0.0926 - val_loss: 0.0915\n",
      "Epoch 47/50\n",
      "235/235 [==============================] - 2s 8ms/step - loss: 0.0926 - val_loss: 0.0916\n",
      "Epoch 48/50\n",
      "235/235 [==============================] - 2s 8ms/step - loss: 0.0926 - val_loss: 0.0914\n",
      "Epoch 49/50\n",
      "235/235 [==============================] - 2s 8ms/step - loss: 0.0926 - val_loss: 0.0914\n",
      "Epoch 50/50\n",
      "235/235 [==============================] - 3s 11ms/step - loss: 0.0926 - val_loss: 0.0914\n"
     ]
    },
    {
     "data": {
      "text/plain": [
       "<keras.src.callbacks.History at 0x21fbfe54e10>"
      ]
     },
     "execution_count": 9,
     "metadata": {},
     "output_type": "execute_result"
    }
   ],
   "source": [
    "# Train the model :\n",
    "autoencoder.fit(x_train, x_train,\n",
    "               epochs=50,\n",
    "               batch_size=256,\n",
    "               shuffle=True,\n",
    "               validation_data=(x_test, x_test))"
   ]
  },
  {
   "cell_type": "code",
   "execution_count": 10,
   "id": "e678f62e",
   "metadata": {},
   "outputs": [],
   "source": [
    "# Encoder model to extract the latent representation :\n",
    "encoder = Model(input_img, encoder)"
   ]
  },
  {
   "cell_type": "code",
   "execution_count": 13,
   "id": "079e4f96",
   "metadata": {},
   "outputs": [],
   "source": [
    "# Decoder model to reconstruct the input from the latent representation :\n",
    "encoder_input = Input(shape=(encoding_dim,))\n",
    "decoder_layer = autoencoder.layers[-1]\n",
    "decoder = Model(encoder_input, decoder_layer(encoder_input))"
   ]
  },
  {
   "cell_type": "code",
   "execution_count": 14,
   "id": "ca4e3cd7",
   "metadata": {},
   "outputs": [
    {
     "name": "stdout",
     "output_type": "stream",
     "text": [
      "313/313 [==============================] - 1s 2ms/step\n",
      "313/313 [==============================] - 1s 3ms/step\n"
     ]
    }
   ],
   "source": [
    "# Encode and decode some digits :\n",
    "encoded_imgs = encoder.predict(x_test)\n",
    "decoded_imgs = decoder.predict(encoded_imgs)"
   ]
  },
  {
   "cell_type": "code",
   "execution_count": 21,
   "id": "4ce7f1c8",
   "metadata": {
    "scrolled": true
   },
   "outputs": [
    {
     "data": {
      "image/png": "[encoded data removed]",
      "text/plain": [
       "<Figure size 2000x400 with 20 Axes>"
      ]
     },
     "metadata": {},
     "output_type": "display_data"
    }
   ],
   "source": [
    "# plots the original and reconstructed images :\n",
    "n = 10\n",
    "plt.figure(figsize=(20, 4))\n",
    "for i in range(n):\n",
    "    ax = plt.subplot(2, n, i + 1)    #Display original\n",
    "    plt.imshow(x_test[i].reshape(28, 28))\n",
    "    plt.gray()\n",
    "    ax.get_xaxis().set_visible(False)\n",
    "    ax.get_yaxis().set_visible(False)\n",
    "    \n",
    "    #Display reconstruction :\n",
    "    ax = plt.subplot(2, n, i + 1 + n)\n",
    "    plt.imshow(decoded_imgs[i].reshape(28, 28))\n",
    "    plt.gray()\n",
    "    ax.get_xaxis().set_visible(False)\n",
    "    ax.get_yaxis().set_visible(False)\n",
    "plt.show()"
   ]
  },
  {
   "cell_type": "code",
   "execution_count": null,
   "id": "4090139a",
   "metadata": {},
   "outputs": [],
   "source": [
    "\n"
   ]
  },
  {
   "cell_type": "markdown",
   "id": "1ba1b033",
   "metadata": {},
   "source": [
    "- 𝐂𝐨𝐧𝐜𝐞𝐩𝐭 :\n",
    "    Autoencoders are neural networks used for unsupervised learning tasks, particularly for dimensionality reduction and data compression. They learn to encode input data into a lower-dimensional representation (latent space) and then decode it back to the original data. The goal is to make the reconstructed data as close to the original as possible."
   ]
  },
  {
   "cell_type": "markdown",
   "id": "9e74c1e5",
   "metadata": {},
   "source": [
    "𝐊𝐞𝐲 𝐂𝐨𝐦𝐩𝐨𝐧𝐞𝐧𝐭𝐬 :\n",
    "    \n",
    "- 𝐄𝐧𝐜𝐨𝐝𝐞𝐫: Maps the input data to a lower-dimensional space.\n",
    "- 𝐋𝐚𝐭𝐞𝐧𝐭 𝐒𝐩𝐚𝐜𝐞: The compressed representation of the input data.\n",
    "- 𝐃𝐞𝐜𝐨𝐝𝐞𝐫: Reconstructs the data from the lower-dimensional representation."
   ]
  },
  {
   "cell_type": "markdown",
   "id": "badb7eba",
   "metadata": {},
   "source": [
    "𝐊𝐞𝐲 𝐒𝐭𝐞𝐩𝐬 :\n",
    "    \n",
    "1. 𝐄𝐧𝐜𝐨𝐝𝐢𝐧𝐠: Compress the input data into a latent space.\n",
    "2. 𝐃𝐞𝐜𝐨𝐝𝐢𝐧𝐠: Reconstruct the input data from the latent space.\n",
    "3. 𝐎𝐩𝐭𝐢𝐦𝐢𝐳𝐚𝐭𝐢𝐨𝐧: Minimize the reconstruction error between the original and the "
   ]
  },
  {
   "cell_type": "markdown",
   "id": "2b11c8f2",
   "metadata": {},
   "source": [
    "𝐀𝐩𝐩𝐥𝐢𝐜𝐚𝐭𝐢𝐨𝐧𝐬 :\n",
    "\n",
    "=> Autoencoders are used in various applications, including:\n",
    "\n",
    "- 𝐃𝐢𝐦𝐞𝐧𝐬𝐢𝐨𝐧𝐚𝐥𝐢𝐭𝐲 𝐑𝐞𝐝𝐮𝐜𝐭𝐢𝐨𝐧: Reducing the number of features in high-dimensional data while preserving important information.\n",
    "- 𝐀𝐧𝐨𝐦𝐚𝐥𝐲 𝐃𝐞𝐭𝐞𝐜𝐭𝐢𝐨𝐧: Identifying outliers or anomalies by measuring the reconstruction error.\n",
    "- 𝐃𝐞𝐧𝐨𝐢𝐬𝐢𝐧𝐠: Removing noise from data by training the autoencoder to reconstruct clean data from noisy inputs.\n",
    "- 𝐃𝐚𝐭𝐚 𝐂𝐨𝐦𝐩𝐫𝐞𝐬𝐬𝐢𝐨𝐧: Compressing data to save storage space or reduce transmission bandwidth.\n",
    "- 𝐈𝐦𝐚𝐠𝐞 𝐆𝐞𝐧𝐞𝐫𝐚𝐭𝐢𝐨𝐧: Generating new images by sampling from the latent space."
   ]
  },
  {
   "cell_type": "markdown",
   "id": "29aca280",
   "metadata": {},
   "source": [
    "𝐀𝐝𝐯𝐚𝐧𝐜𝐞𝐝 𝐕𝐚𝐫𝐢𝐚𝐧𝐭𝐬 𝐨𝐟 𝐀𝐮𝐭𝐨𝐞𝐧𝐜𝐨𝐝𝐞𝐫𝐬 :\n",
    "\n",
    "- 𝐕𝐚𝐫𝐢𝐚𝐭𝐢𝐨𝐧𝐚𝐥 𝐀𝐮𝐭𝐨𝐞𝐧𝐜𝐨𝐝𝐞𝐫𝐬 (𝐕𝐀𝐄𝐬): Introduce a probabilistic approach to learn a distribution over the latent space, enabling generation of new data samples.\n",
    "- 𝐃𝐞𝐧𝐨𝐢𝐬𝐢𝐧𝐠 𝐀𝐮𝐭𝐨𝐞𝐧𝐜𝐨𝐝𝐞𝐫𝐬: Train the autoencoder to reconstruct clean data from noisy inputs, effectively learning to remove noise.\n",
    "- 𝐒𝐩𝐚𝐫𝐬𝐞 𝐀𝐮𝐭𝐨𝐞𝐧𝐜𝐨𝐝𝐞𝐫𝐬: Encourage sparsity in the latent representation, making the model learn more robust features.\n",
    "- 𝐂𝐨𝐧𝐯𝐨𝐥𝐮𝐭𝐢𝐨𝐧𝐚𝐥 𝐀𝐮𝐭𝐨𝐞𝐧𝐜𝐨𝐝𝐞𝐫𝐬 (𝐂𝐀𝐄𝐬): Use convolutional layers for encoding and decoding, making them more suitable for image data.\n",
    "- 𝐒𝐞𝐪𝐮𝐞𝐧𝐜𝐞-𝐭𝐨-𝐒𝐞𝐪𝐮𝐞𝐧𝐜𝐞 𝐀𝐮𝐭𝐨𝐞𝐧𝐜𝐨𝐝𝐞𝐫𝐬: Designed for sequential data, such as text or time series, using RNNs or LSTMs in the encoder and decoder."
   ]
  },
  {
   "cell_type": "markdown",
   "id": "9d2bcc33",
   "metadata": {},
   "source": [
    "- 𝐀𝐮𝐭𝐨𝐞𝐧𝐜𝐨𝐝𝐞𝐫𝐬' 𝐯𝐞𝐫𝐬𝐚𝐭𝐢𝐥𝐢𝐭𝐲 𝐚𝐧𝐝 𝐚𝐛𝐢𝐥𝐢𝐭𝐲 𝐭𝐨 𝐥𝐞𝐚𝐫𝐧 𝐜𝐨𝐦𝐩𝐚𝐜𝐭 𝐫𝐞𝐩𝐫𝐞𝐬𝐞𝐧𝐭𝐚𝐭𝐢𝐨𝐧𝐬 𝐦𝐚𝐤𝐞 𝐭𝐡𝐞𝐦 𝐩𝐨𝐰𝐞𝐫𝐟𝐮𝐥 𝐭𝐨𝐨𝐥𝐬 𝐟𝐨𝐫 𝐚 𝐰𝐢𝐝𝐞 𝐫𝐚𝐧𝐠𝐞 𝐨𝐟 𝐮𝐧𝐬𝐮𝐩𝐞𝐫𝐯𝐢𝐬𝐞𝐝 𝐥𝐞𝐚𝐫𝐧𝐢𝐧𝐠 𝐭𝐚𝐬𝐤𝐬."
   ]
  },
  {
   "cell_type": "code",
   "execution_count": null,
   "id": "f63a72c1",
   "metadata": {},
   "outputs": [],
   "source": []
  }
 ],
 "metadata": {
  "kernelspec": {
   "display_name": "Python 3 (ipykernel)",
   "language": "python",
   "name": "python3"
  },
  "language_info": {
   "codemirror_mode": {
    "name": "ipython",
    "version": 3
   },
   "file_extension": ".py",
   "mimetype": "text/x-python",
   "name": "python",
   "nbconvert_exporter": "python",
   "pygments_lexer": "ipython3",
   "version": "3.11.5"
  }
 },
 "nbformat": 4,
 "nbformat_minor": 5
}
