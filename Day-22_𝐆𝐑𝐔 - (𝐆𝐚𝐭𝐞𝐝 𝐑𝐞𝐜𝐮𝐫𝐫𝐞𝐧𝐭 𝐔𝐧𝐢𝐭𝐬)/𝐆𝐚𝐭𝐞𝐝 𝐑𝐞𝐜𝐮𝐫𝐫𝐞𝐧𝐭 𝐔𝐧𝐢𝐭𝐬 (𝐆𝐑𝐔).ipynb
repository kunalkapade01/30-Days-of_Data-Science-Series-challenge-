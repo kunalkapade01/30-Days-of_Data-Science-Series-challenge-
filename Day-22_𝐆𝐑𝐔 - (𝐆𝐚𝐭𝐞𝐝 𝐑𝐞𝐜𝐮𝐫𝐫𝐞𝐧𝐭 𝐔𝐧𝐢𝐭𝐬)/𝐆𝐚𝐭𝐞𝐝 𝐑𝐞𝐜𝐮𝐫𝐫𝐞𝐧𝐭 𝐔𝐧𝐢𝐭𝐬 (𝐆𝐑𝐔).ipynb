{
 "cells": [
  {
   "cell_type": "markdown",
   "id": "4de17532",
   "metadata": {},
   "source": [
    "# - 𝐆𝐚𝐭𝐞𝐝 𝐑𝐞𝐜𝐮𝐫𝐫𝐞𝐧𝐭 𝐔𝐧𝐢𝐭𝐬 (𝐆𝐑𝐔) :"
   ]
  },
  {
   "cell_type": "code",
   "execution_count": 1,
   "id": "91bae8e6",
   "metadata": {},
   "outputs": [
    {
     "name": "stdout",
     "output_type": "stream",
     "text": [
      "WARNING:tensorflow:From C:\\Users\\kunal\\anaconda3\\Lib\\site-packages\\keras\\src\\losses.py:2976: The name tf.losses.sparse_softmax_cross_entropy is deprecated. Please use tf.compat.v1.losses.sparse_softmax_cross_entropy instead.\n",
      "\n"
     ]
    }
   ],
   "source": [
    "# Import necessary library :n\n",
    "import pandas as pd\n",
    "import numpy as np\n",
    "import tensorflow as tf\n",
    "from tensorflow.keras.models import Sequential\n",
    "from tensorflow.keras.layers import GRU, Dense\n",
    "from sklearn.preprocessing import MinMaxScaler"
   ]
  },
  {
   "cell_type": "code",
   "execution_count": 2,
   "id": "a777349b",
   "metadata": {},
   "outputs": [],
   "source": [
    "# Generarte the data:\n",
    "data = np.sin(np.linspace(0, 100, 1000))"
   ]
  },
  {
   "cell_type": "code",
   "execution_count": 3,
   "id": "3a6602ac",
   "metadata": {},
   "outputs": [],
   "source": [
    "# prepare the datasets :\n",
    "def create_dataset(data, time_step=1):\n",
    "    X, y = [], []\n",
    "    for i in range(len(data) - time_step - 1):\n",
    "        a = data[i:(i+time_step)]\n",
    "        X.append(a)\n",
    "        y.append(data[i+time_step])\n",
    "    return np.array(X), np.array(y)"
   ]
  },
  {
   "cell_type": "code",
   "execution_count": 4,
   "id": "a1bed208",
   "metadata": {},
   "outputs": [],
   "source": [
    "# Scale the data:\n",
    "scaler = MinMaxScaler(feature_range=(0, 1))\n",
    "data = scaler.fit_transform(data.reshape(-1, 1))"
   ]
  },
  {
   "cell_type": "code",
   "execution_count": 5,
   "id": "9eef3489",
   "metadata": {},
   "outputs": [],
   "source": [
    "# Create the datasets with time steps :\n",
    "time_step = 10\n",
    "X, y = create_dataset(data, time_step)\n",
    "X = X.reshape(X.shape[0], X.shape[1], 1)"
   ]
  },
  {
   "cell_type": "code",
   "execution_count": 6,
   "id": "c308dd82",
   "metadata": {},
   "outputs": [],
   "source": [
    "# split the data into train and test :\n",
    "train_size = int(len(X) * 0.8)\n",
    "x_train, x_test = X[:train_size], X[train_size:]\n",
    "y_train, y_test = y[:train_size], y[train_size:]"
   ]
  },
  {
   "cell_type": "code",
   "execution_count": 7,
   "id": "8277f7aa",
   "metadata": {},
   "outputs": [
    {
     "name": "stdout",
     "output_type": "stream",
     "text": [
      "WARNING:tensorflow:From C:\\Users\\kunal\\anaconda3\\Lib\\site-packages\\keras\\src\\layers\\rnn\\gru.py:144: The name tf.executing_eagerly_outside_functions is deprecated. Please use tf.compat.v1.executing_eagerly_outside_functions instead.\n",
      "\n"
     ]
    }
   ],
   "source": [
    "# Create GRU model :\n",
    "model = Sequential([\n",
    "    GRU(50, input_shape=(time_step, 1)),\n",
    "    Dense(1)\n",
    "])"
   ]
  },
  {
   "cell_type": "code",
   "execution_count": 8,
   "id": "80c92dee",
   "metadata": {},
   "outputs": [
    {
     "name": "stdout",
     "output_type": "stream",
     "text": [
      "WARNING:tensorflow:From C:\\Users\\kunal\\anaconda3\\Lib\\site-packages\\keras\\src\\optimizers\\__init__.py:309: The name tf.train.Optimizer is deprecated. Please use tf.compat.v1.train.Optimizer instead.\n",
      "\n"
     ]
    }
   ],
   "source": [
    "# Compile the model :\n",
    "model.compile(optimizer=\"adam\", loss=\"mean_squared_error\")"
   ]
  },
  {
   "cell_type": "code",
   "execution_count": 9,
   "id": "ef9ca84a",
   "metadata": {},
   "outputs": [
    {
     "name": "stdout",
     "output_type": "stream",
     "text": [
      "Epoch 1/50\n",
      "WARNING:tensorflow:From C:\\Users\\kunal\\anaconda3\\Lib\\site-packages\\keras\\src\\utils\\tf_utils.py:492: The name tf.ragged.RaggedTensorValue is deprecated. Please use tf.compat.v1.ragged.RaggedTensorValue instead.\n",
      "\n",
      "791/791 [==============================] - 6s 4ms/step - loss: 0.0055\n",
      "Epoch 2/50\n",
      "791/791 [==============================] - 3s 4ms/step - loss: 2.9814e-05\n",
      "Epoch 3/50\n",
      "791/791 [==============================] - 4s 5ms/step - loss: 2.5702e-05\n",
      "Epoch 4/50\n",
      "791/791 [==============================] - 4s 5ms/step - loss: 2.4792e-05\n",
      "Epoch 5/50\n",
      "791/791 [==============================] - 4s 5ms/step - loss: 3.0431e-05\n",
      "Epoch 6/50\n",
      "791/791 [==============================] - 4s 5ms/step - loss: 8.1131e-05\n",
      "Epoch 7/50\n",
      "791/791 [==============================] - 4s 5ms/step - loss: 3.5406e-05\n",
      "Epoch 8/50\n",
      "791/791 [==============================] - 4s 5ms/step - loss: 3.1759e-05\n",
      "Epoch 9/50\n",
      "791/791 [==============================] - 4s 5ms/step - loss: 1.3838e-04\n",
      "Epoch 10/50\n",
      "791/791 [==============================] - 5s 6ms/step - loss: 5.5246e-06\n",
      "Epoch 11/50\n",
      "791/791 [==============================] - 4s 6ms/step - loss: 2.1488e-05\n",
      "Epoch 12/50\n",
      "791/791 [==============================] - 4s 5ms/step - loss: 1.8501e-04\n",
      "Epoch 13/50\n",
      "791/791 [==============================] - 4s 5ms/step - loss: 3.0736e-06\n",
      "Epoch 14/50\n",
      "791/791 [==============================] - 4s 5ms/step - loss: 3.2000e-05\n",
      "Epoch 15/50\n",
      "791/791 [==============================] - 4s 5ms/step - loss: 3.5422e-05\n",
      "Epoch 16/50\n",
      "791/791 [==============================] - 3s 4ms/step - loss: 1.4345e-05\n",
      "Epoch 17/50\n",
      "791/791 [==============================] - 4s 4ms/step - loss: 4.3502e-05\n",
      "Epoch 18/50\n",
      "791/791 [==============================] - 4s 4ms/step - loss: 9.8986e-06\n",
      "Epoch 19/50\n",
      "791/791 [==============================] - 4s 4ms/step - loss: 4.3971e-05\n",
      "Epoch 20/50\n",
      "791/791 [==============================] - 3s 4ms/step - loss: 1.6761e-06\n",
      "Epoch 21/50\n",
      "791/791 [==============================] - 3s 4ms/step - loss: 2.3203e-05\n",
      "Epoch 22/50\n",
      "791/791 [==============================] - 3s 4ms/step - loss: 1.8502e-05\n",
      "Epoch 23/50\n",
      "791/791 [==============================] - 3s 4ms/step - loss: 2.7885e-06\n",
      "Epoch 24/50\n",
      "791/791 [==============================] - 3s 4ms/step - loss: 6.7828e-05\n",
      "Epoch 25/50\n",
      "791/791 [==============================] - 3s 4ms/step - loss: 2.2934e-06\n",
      "Epoch 26/50\n",
      "791/791 [==============================] - 3s 4ms/step - loss: 6.5997e-06\n",
      "Epoch 27/50\n",
      "791/791 [==============================] - 3s 4ms/step - loss: 9.2890e-06\n",
      "Epoch 28/50\n",
      "791/791 [==============================] - 4s 4ms/step - loss: 3.3641e-05\n",
      "Epoch 29/50\n",
      "791/791 [==============================] - 4s 4ms/step - loss: 7.9793e-07\n",
      "Epoch 30/50\n",
      "791/791 [==============================] - 3s 4ms/step - loss: 4.6212e-05\n",
      "Epoch 31/50\n",
      "791/791 [==============================] - 4s 5ms/step - loss: 2.0935e-06\n",
      "Epoch 32/50\n",
      "791/791 [==============================] - 4s 5ms/step - loss: 3.0263e-05\n",
      "Epoch 33/50\n",
      "791/791 [==============================] - 4s 5ms/step - loss: 9.1276e-06\n",
      "Epoch 34/50\n",
      "791/791 [==============================] - 4s 5ms/step - loss: 3.6146e-06\n",
      "Epoch 35/50\n",
      "791/791 [==============================] - 3s 4ms/step - loss: 1.9187e-05\n",
      "Epoch 36/50\n",
      "791/791 [==============================] - 4s 5ms/step - loss: 1.1707e-06\n",
      "Epoch 37/50\n",
      "791/791 [==============================] - 3s 4ms/step - loss: 6.3129e-05\n",
      "Epoch 38/50\n",
      "791/791 [==============================] - 3s 4ms/step - loss: 1.1009e-07\n",
      "Epoch 39/50\n",
      "791/791 [==============================] - 3s 4ms/step - loss: 3.1486e-07\n",
      "Epoch 40/50\n",
      "791/791 [==============================] - 3s 4ms/step - loss: 1.1155e-05\n",
      "Epoch 41/50\n",
      "791/791 [==============================] - 3s 4ms/step - loss: 2.3464e-05\n",
      "Epoch 42/50\n",
      "791/791 [==============================] - 4s 4ms/step - loss: 4.2253e-06\n",
      "Epoch 43/50\n",
      "791/791 [==============================] - 3s 4ms/step - loss: 5.9394e-05\n",
      "Epoch 44/50\n",
      "791/791 [==============================] - 3s 4ms/step - loss: 6.9886e-07\n",
      "Epoch 45/50\n",
      "791/791 [==============================] - 3s 4ms/step - loss: 4.3123e-07\n",
      "Epoch 46/50\n",
      "791/791 [==============================] - 3s 4ms/step - loss: 6.7206e-05\n",
      "Epoch 47/50\n",
      "791/791 [==============================] - 3s 4ms/step - loss: 7.2574e-08\n",
      "Epoch 48/50\n",
      "791/791 [==============================] - 3s 4ms/step - loss: 1.3303e-07\n",
      "Epoch 49/50\n",
      "791/791 [==============================] - 3s 4ms/step - loss: 9.1008e-06\n",
      "Epoch 50/50\n",
      "791/791 [==============================] - 3s 4ms/step - loss: 1.3369e-06\n"
     ]
    },
    {
     "data": {
      "text/plain": [
       "<keras.src.callbacks.History at 0x200c7ec0150>"
      ]
     },
     "execution_count": 9,
     "metadata": {},
     "output_type": "execute_result"
    }
   ],
   "source": [
    "# Train the model :\n",
    "model.fit(x_train, y_train, epochs=50, batch_size=1, verbose=1)"
   ]
  },
  {
   "cell_type": "code",
   "execution_count": 10,
   "id": "8a811e26",
   "metadata": {},
   "outputs": [
    {
     "name": "stdout",
     "output_type": "stream",
     "text": [
      "𝐓𝐞𝐬𝐭 𝐋𝐨𝐬𝐬: 9.394905646331608e-06\n"
     ]
    }
   ],
   "source": [
    "# Evalute the model :\n",
    "loss = model.evaluate(x_test, y_test, verbose=0)\n",
    "print(f\"𝐓𝐞𝐬𝐭 𝐋𝐨𝐬𝐬: {loss}\")"
   ]
  },
  {
   "cell_type": "code",
   "execution_count": 11,
   "id": "a4b255e6",
   "metadata": {},
   "outputs": [
    {
     "name": "stdout",
     "output_type": "stream",
     "text": [
      "1/1 [==============================] - 1s 1s/step\n",
      "𝐏𝐫𝐞𝐝𝐢𝐜𝐭𝐞𝐝 𝐕𝐚𝐥𝐮𝐞 : -0.5814230442047119\n"
     ]
    }
   ],
   "source": [
    "# Predict the next value :\n",
    "last_seq = x_test[-1].reshape(1, time_step, 1)\n",
    "pred_value = model.predict(last_seq)\n",
    "pred_value = scaler.inverse_transform(pred_value)\n",
    "print(f\"𝐏𝐫𝐞𝐝𝐢𝐜𝐭𝐞𝐝 𝐕𝐚𝐥𝐮𝐞 : {pred_value[0][0]}\")"
   ]
  },
  {
   "cell_type": "markdown",
   "id": "c10863b6",
   "metadata": {},
   "source": [
    "- 𝐏𝐫𝐞𝐝𝐢𝐜𝐭𝐞𝐝 𝐕𝐚𝐥𝐮𝐞 :𝐄𝐱𝐚𝐦𝐩𝐥𝐞 𝐰𝐢𝐭𝐡 𝐒𝐭𝐚𝐜𝐤𝐞𝐝 𝐆𝐑𝐔 𝐚𝐧𝐝 𝐃𝐫𝐨𝐩𝐨𝐮𝐭 :"
   ]
  },
  {
   "cell_type": "code",
   "execution_count": 12,
   "id": "edcae35b",
   "metadata": {},
   "outputs": [],
   "source": [
    "# Example with Stacked GRU and Dropout :\n",
    "from tensorflow.keras.layers import Dropout"
   ]
  },
  {
   "cell_type": "code",
   "execution_count": 13,
   "id": "fea793c1",
   "metadata": {},
   "outputs": [],
   "source": [
    "# Create the stacked GRU model :\n",
    "model = Sequential([\n",
    "    GRU(50, return_sequences=True, input_shape=(time_step, 1)),\n",
    "    Dropout(0.2),\n",
    "    GRU(50),\n",
    "    Dense(1)\n",
    "])"
   ]
  },
  {
   "cell_type": "code",
   "execution_count": 14,
   "id": "a440a367",
   "metadata": {},
   "outputs": [],
   "source": [
    "# Compile train and evaluate model as before :\n",
    "model.compile(optimizer=\"adam\", loss=\"mean_squared_error\")"
   ]
  },
  {
   "cell_type": "code",
   "execution_count": 15,
   "id": "8a2a403c",
   "metadata": {
    "scrolled": true
   },
   "outputs": [
    {
     "name": "stdout",
     "output_type": "stream",
     "text": [
      "Epoch 1/50\n",
      "791/791 [==============================] - 18s 15ms/step - loss: 0.0090\n",
      "Epoch 2/50\n",
      "791/791 [==============================] - 10s 13ms/step - loss: 0.0018\n",
      "Epoch 3/50\n",
      "791/791 [==============================] - 10s 13ms/step - loss: 0.0013\n",
      "Epoch 4/50\n",
      "791/791 [==============================] - 9s 12ms/step - loss: 9.3949e-04\n",
      "Epoch 5/50\n",
      "791/791 [==============================] - 8s 10ms/step - loss: 0.0012\n",
      "Epoch 6/50\n",
      "791/791 [==============================] - 8s 10ms/step - loss: 7.5508e-04\n",
      "Epoch 7/50\n",
      "791/791 [==============================] - 8s 10ms/step - loss: 6.5049e-04\n",
      "Epoch 8/50\n",
      "791/791 [==============================] - 8s 11ms/step - loss: 8.7965e-04\n",
      "Epoch 9/50\n",
      "791/791 [==============================] - 8s 10ms/step - loss: 6.8538e-04\n",
      "Epoch 10/50\n",
      "791/791 [==============================] - 8s 11ms/step - loss: 7.3511e-04\n",
      "Epoch 11/50\n",
      "791/791 [==============================] - 8s 10ms/step - loss: 9.6693e-04\n",
      "Epoch 12/50\n",
      "791/791 [==============================] - 8s 10ms/step - loss: 6.5623e-04\n",
      "Epoch 13/50\n",
      "791/791 [==============================] - 8s 10ms/step - loss: 5.2702e-04\n",
      "Epoch 14/50\n",
      "791/791 [==============================] - 8s 10ms/step - loss: 6.3708e-04\n",
      "Epoch 15/50\n",
      "791/791 [==============================] - 8s 10ms/step - loss: 5.8203e-04\n",
      "Epoch 16/50\n",
      "791/791 [==============================] - 8s 10ms/step - loss: 5.5860e-04\n",
      "Epoch 17/50\n",
      "791/791 [==============================] - 9s 11ms/step - loss: 5.5676e-04\n",
      "Epoch 18/50\n",
      "791/791 [==============================] - 9s 11ms/step - loss: 4.8946e-04\n",
      "Epoch 19/50\n",
      "791/791 [==============================] - 8s 10ms/step - loss: 5.0742e-04\n",
      "Epoch 20/50\n",
      "791/791 [==============================] - 8s 10ms/step - loss: 4.8000e-04\n",
      "Epoch 21/50\n",
      "791/791 [==============================] - 8s 10ms/step - loss: 5.3358e-04\n",
      "Epoch 22/50\n",
      "791/791 [==============================] - 10s 12ms/step - loss: 4.5016e-04\n",
      "Epoch 23/50\n",
      "791/791 [==============================] - 9s 11ms/step - loss: 4.4362e-04\n",
      "Epoch 24/50\n",
      "791/791 [==============================] - 8s 10ms/step - loss: 4.7949e-04\n",
      "Epoch 25/50\n",
      "791/791 [==============================] - 8s 11ms/step - loss: 3.7024e-04\n",
      "Epoch 26/50\n",
      "791/791 [==============================] - 8s 10ms/step - loss: 4.0388e-04\n",
      "Epoch 27/50\n",
      "791/791 [==============================] - 8s 10ms/step - loss: 3.2776e-04\n",
      "Epoch 28/50\n",
      "791/791 [==============================] - 8s 10ms/step - loss: 4.2279e-04\n",
      "Epoch 29/50\n",
      "791/791 [==============================] - 9s 11ms/step - loss: 3.5961e-04\n",
      "Epoch 30/50\n",
      "791/791 [==============================] - 8s 11ms/step - loss: 3.7712e-04\n",
      "Epoch 31/50\n",
      "791/791 [==============================] - 8s 10ms/step - loss: 3.1066e-04\n",
      "Epoch 32/50\n",
      "791/791 [==============================] - 10s 12ms/step - loss: 3.8986e-04\n",
      "Epoch 33/50\n",
      "791/791 [==============================] - 8s 11ms/step - loss: 3.0896e-04\n",
      "Epoch 34/50\n",
      "791/791 [==============================] - 8s 11ms/step - loss: 3.7758e-04\n",
      "Epoch 35/50\n",
      "791/791 [==============================] - 8s 11ms/step - loss: 2.4625e-04\n",
      "Epoch 36/50\n",
      "791/791 [==============================] - 8s 10ms/step - loss: 2.7781e-04\n",
      "Epoch 37/50\n",
      "791/791 [==============================] - 8s 10ms/step - loss: 3.0106e-04\n",
      "Epoch 38/50\n",
      "791/791 [==============================] - 8s 11ms/step - loss: 2.5245e-04\n",
      "Epoch 39/50\n",
      "791/791 [==============================] - 10s 12ms/step - loss: 2.8298e-04\n",
      "Epoch 40/50\n",
      "791/791 [==============================] - 9s 11ms/step - loss: 3.4982e-04\n",
      "Epoch 41/50\n",
      "791/791 [==============================] - 8s 10ms/step - loss: 3.1238e-04\n",
      "Epoch 42/50\n",
      "791/791 [==============================] - 9s 12ms/step - loss: 2.3340e-04\n",
      "Epoch 43/50\n",
      "791/791 [==============================] - 9s 11ms/step - loss: 2.1121e-04\n",
      "Epoch 44/50\n",
      "791/791 [==============================] - 9s 12ms/step - loss: 2.8716e-04\n",
      "Epoch 45/50\n",
      "791/791 [==============================] - 9s 11ms/step - loss: 2.3937e-04\n",
      "Epoch 46/50\n",
      "791/791 [==============================] - 8s 10ms/step - loss: 2.0745e-04\n",
      "Epoch 47/50\n",
      "791/791 [==============================] - 8s 10ms/step - loss: 2.0182e-04\n",
      "Epoch 48/50\n",
      "791/791 [==============================] - 9s 11ms/step - loss: 1.9224e-04\n",
      "Epoch 49/50\n",
      "791/791 [==============================] - 9s 11ms/step - loss: 2.1709e-04\n",
      "Epoch 50/50\n",
      "791/791 [==============================] - 8s 11ms/step - loss: 2.1201e-04\n"
     ]
    },
    {
     "data": {
      "text/plain": [
       "<keras.src.callbacks.History at 0x200d22c4550>"
      ]
     },
     "execution_count": 15,
     "metadata": {},
     "output_type": "execute_result"
    }
   ],
   "source": [
    "model.fit(x_train, y_train, batch_size=1, epochs=50, verbose=1)"
   ]
  },
  {
   "cell_type": "code",
   "execution_count": 16,
   "id": "386bc3dd",
   "metadata": {},
   "outputs": [
    {
     "name": "stdout",
     "output_type": "stream",
     "text": [
      "𝐓𝐞𝐬𝐭 𝐋𝐨𝐬𝐬: 9.92787245195359e-05\n"
     ]
    }
   ],
   "source": [
    "loss = model.evaluate(x_test, y_test, verbose=0)\n",
    "print(f\"𝐓𝐞𝐬𝐭 𝐋𝐨𝐬𝐬: {loss}\")"
   ]
  },
  {
   "cell_type": "markdown",
   "id": "31d4a339",
   "metadata": {},
   "source": [
    "- 𝐂𝐨𝐧𝐜𝐞𝐩𝐭 :\n",
    "\n",
    "Gated Recurrent Units (GRUs) are a type of recurrent neural network (RNN) designed to handle the vanishing gradient problem that affects traditional RNNs. GRUs are similar to Long Short-Term Memory (LSTM) units but are simpler and have fewer parameters, making them computationally more efficient."
   ]
  },
  {
   "cell_type": "markdown",
   "id": "862739c5",
   "metadata": {},
   "source": [
    "𝐊𝐞𝐲 𝐅𝐞𝐚𝐭𝐮𝐫𝐞𝐬 𝐨𝐟 𝐆𝐑𝐔 :\n",
    "\n",
    "- 𝐔𝐩𝐝𝐚𝐭𝐞 𝐆𝐚𝐭𝐞: Decides how much of the previous memory to keep.\n",
    "- 𝐑𝐞𝐬𝐞𝐭 𝐆𝐚𝐭𝐞: Decides how much of the previous state to forget.\n",
    "- 𝐌𝐞𝐦𝐨𝐫𝐲 𝐂𝐞𝐥𝐥: Combines the current input with the previous memory, controlled by the update and reset gates."
   ]
  },
  {
   "cell_type": "markdown",
   "id": "3361045a",
   "metadata": {},
   "source": [
    "𝐊𝐞𝐲 𝐒𝐭𝐞𝐩𝐬 :\n",
    "    \n",
    "- 𝐑𝐞𝐬𝐞𝐭 𝐆𝐚𝐭𝐞: Determines how to combine the new input with the previous memory.\n",
    "- 𝐔𝐩𝐝𝐚𝐭𝐞 𝐆𝐚𝐭𝐞: Determines the amount of previous memory to keep and combine with the new candidate state.\n",
    "- 𝐍𝐞𝐰 𝐒𝐭𝐚𝐭𝐞 𝐂𝐚𝐥𝐜𝐮𝐥𝐚𝐭𝐢𝐨𝐧: Combines the previous state and the new candidate state based on the update gate."
   ]
  },
  {
   "cell_type": "markdown",
   "id": "56fb9c9a",
   "metadata": {},
   "source": [
    "𝐀𝐝𝐯𝐚𝐧𝐜𝐞𝐝 𝐅𝐞𝐚𝐭𝐮𝐫𝐞𝐬 𝐨𝐟 𝐆𝐑𝐔𝐬 :\n",
    "\n",
    "- 𝐁𝐢𝐝𝐢𝐫𝐞𝐜𝐭𝐢𝐨𝐧𝐚𝐥 𝐆𝐑𝐔: Processes the sequence in both forward and backward directions.\n",
    "- 𝐒𝐭𝐚𝐜𝐤𝐞𝐝 𝐆𝐑𝐔: Uses multiple GRU layers to capture more complex patterns.\n",
    "- 𝐀𝐭𝐭𝐞𝐧𝐭𝐢𝐨𝐧 𝐌𝐞𝐜𝐡𝐚𝐧𝐢𝐬𝐦𝐬: Allows the model to focus on important parts of the sequence.\n",
    "- 𝐃𝐫𝐨𝐩𝐨𝐮𝐭 𝐑𝐞𝐠𝐮𝐥𝐚𝐫𝐢𝐳𝐚𝐭𝐢𝐨𝐧: Prevents overfitting by randomly dropping units during training.\n",
    "- 𝐁𝐚𝐭𝐜𝐡 𝐍𝐨𝐫𝐦𝐚𝐥𝐢𝐳𝐚𝐭𝐢𝐨𝐧: Normalizes the inputs to each layer, improving training speed and stability."
   ]
  },
  {
   "cell_type": "markdown",
   "id": "54915435",
   "metadata": {},
   "source": [
    "𝐀𝐩𝐩𝐥𝐢𝐜𝐚𝐭𝐢𝐨𝐧𝐬 :\n",
    "\n",
    "GRUs are widely used in various fields such as:\n",
    "\n",
    "- 𝐍𝐚𝐭𝐮𝐫𝐚𝐥 𝐋𝐚𝐧𝐠𝐮𝐚𝐠𝐞 𝐏𝐫𝐨𝐜𝐞𝐬𝐬𝐢𝐧𝐠 (𝐍𝐋𝐏): Language modeling, machine translation, text generation.\n",
    "- 𝐓𝐢𝐦𝐞 𝐒𝐞𝐫𝐢𝐞𝐬 𝐀𝐧𝐚𝐥𝐲𝐬𝐢𝐬: Stock price prediction, weather forecasting, anomaly detection.\n",
    "- 𝐒𝐩𝐞𝐞𝐜𝐡 𝐑𝐞𝐜𝐨𝐠𝐧𝐢𝐭𝐢𝐨𝐧: Transcribing spoken language into text.\n",
    "- 𝐕𝐢𝐝𝐞𝐨 𝐀𝐧𝐚𝐥𝐲𝐬𝐢𝐬: Activity recognition, video captioning.\n",
    "- 𝐌𝐮𝐬𝐢𝐜 𝐆𝐞𝐧𝐞𝐫𝐚𝐭𝐢𝐨𝐧: Composing music by predicting sequences of notes."
   ]
  },
  {
   "cell_type": "code",
   "execution_count": null,
   "id": "fb86e42a",
   "metadata": {},
   "outputs": [],
   "source": []
  }
 ],
 "metadata": {
  "kernelspec": {
   "display_name": "Python 3 (ipykernel)",
   "language": "python",
   "name": "python3"
  },
  "language_info": {
   "codemirror_mode": {
    "name": "ipython",
    "version": 3
   },
   "file_extension": ".py",
   "mimetype": "text/x-python",
   "name": "python",
   "nbconvert_exporter": "python",
   "pygments_lexer": "ipython3",
   "version": "3.11.5"
  }
 },
 "nbformat": 4,
 "nbformat_minor": 5
}
