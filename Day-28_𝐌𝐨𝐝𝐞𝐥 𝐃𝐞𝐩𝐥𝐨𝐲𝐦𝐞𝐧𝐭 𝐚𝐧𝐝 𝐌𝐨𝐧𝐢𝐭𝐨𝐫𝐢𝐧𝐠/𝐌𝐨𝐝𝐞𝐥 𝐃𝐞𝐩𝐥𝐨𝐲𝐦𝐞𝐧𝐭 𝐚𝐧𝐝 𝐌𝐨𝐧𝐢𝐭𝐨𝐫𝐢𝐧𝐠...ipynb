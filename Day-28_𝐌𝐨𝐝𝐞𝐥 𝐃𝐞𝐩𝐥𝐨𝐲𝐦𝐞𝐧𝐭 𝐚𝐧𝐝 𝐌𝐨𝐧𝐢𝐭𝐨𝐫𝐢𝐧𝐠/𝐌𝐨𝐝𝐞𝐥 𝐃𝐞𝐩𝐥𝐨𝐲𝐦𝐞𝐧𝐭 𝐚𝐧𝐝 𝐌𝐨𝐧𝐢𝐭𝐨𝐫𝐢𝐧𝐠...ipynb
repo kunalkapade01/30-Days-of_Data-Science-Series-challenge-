{
 "cells": [
  {
   "cell_type": "markdown",
   "id": "0e7363a8",
   "metadata": {},
   "source": [
    "- 𝐃𝐞𝐩𝐥𝐨𝐲𝐢𝐧𝐠 𝐚 𝐌𝐚𝐜𝐡𝐢𝐧𝐞 𝐋𝐞𝐚𝐫𝐧𝐢𝐧𝐠 𝐌𝐨𝐝𝐞𝐥 𝐰𝐢𝐭𝐡 𝐅𝐥𝐚𝐬𝐤:"
   ]
  },
  {
   "cell_type": "code",
   "execution_count": 1,
   "id": "e3d63af0",
   "metadata": {},
   "outputs": [],
   "source": [
    "# Assuming you have a train model save as a pickle file.\n",
    "import pickle\n",
    "from flask import Flask, request, jsonify"
   ]
  },
  {
   "cell_type": "code",
   "execution_count": 2,
   "id": "37f76d0c",
   "metadata": {
    "scrolled": true
   },
   "outputs": [],
   "source": [
    "# Load the trained model :\n",
    "with open(r\"C:\\Users\\kunal\\30_Days Data_Science series\\Day 7_K-Nearest Neighbors (KNN)\\model.pkl\", \"rb\") as f:\n",
    "    model = pickle.load(f)"
   ]
  },
  {
   "cell_type": "code",
   "execution_count": 3,
   "id": "ec8fdabf",
   "metadata": {},
   "outputs": [],
   "source": [
    "# Initialize Flaksk application :\n",
    "app = Flask(__name__)"
   ]
  },
  {
   "cell_type": "code",
   "execution_count": 4,
   "id": "e79f94fe",
   "metadata": {},
   "outputs": [],
   "source": [
    "# Define API endpoint for model prediction :\n",
    "@app.route(\"/predict\", methods=[\"post\"])\n",
    "def predict():\n",
    "    \n",
    "    #Get input data from request.\n",
    "    input_data = request.json     #Assume json file is input format\n",
    "    features = input_data[\"features\"]  #Extract feature from input\n",
    "    \n",
    "    #perform predict using loaded model:\n",
    "    prediction = model.predict([features])[0]  #Assume single prediction.\n",
    "    \n",
    "    #prepare response json format:\n",
    "    response = {\"prediction\" : prediction}\n",
    "    \n",
    "    return jsonify(response)"
   ]
  },
  {
   "cell_type": "code",
   "execution_count": 5,
   "id": "7e6b530e",
   "metadata": {},
   "outputs": [
    {
     "name": "stdout",
     "output_type": "stream",
     "text": [
      " * Serving Flask app '__main__'\n",
      " * Debug mode: on\n"
     ]
    },
    {
     "name": "stderr",
     "output_type": "stream",
     "text": [
      "WARNING: This is a development server. Do not use it in a production deployment. Use a production WSGI server instead.\n",
      " * Running on http://127.0.0.1:5000\n",
      "Press CTRL+C to quit\n",
      " * Restarting with watchdog (windowsapi)\n"
     ]
    },
    {
     "ename": "SystemExit",
     "evalue": "1",
     "output_type": "error",
     "traceback": [
      "An exception has occurred, use %tb to see the full traceback.\n",
      "\u001b[1;31mSystemExit\u001b[0m\u001b[1;31m:\u001b[0m 1\n"
     ]
    },
    {
     "name": "stderr",
     "output_type": "stream",
     "text": [
      "C:\\Users\\kunal\\anaconda3\\Lib\\site-packages\\IPython\\core\\interactiveshell.py:3534: UserWarning: To exit: use 'exit', 'quit', or Ctrl-D.\n",
      "  warn(\"To exit: use 'exit', 'quit', or Ctrl-D.\", stacklevel=1)\n"
     ]
    }
   ],
   "source": [
    "# Run the Flask application:\n",
    "if __name__ == \"__main__\":\n",
    "    app.run(debug=True)"
   ]
  },
  {
   "cell_type": "code",
   "execution_count": null,
   "id": "2f1f1437",
   "metadata": {},
   "outputs": [],
   "source": []
  },
  {
   "cell_type": "markdown",
   "id": "f6b97b22",
   "metadata": {},
   "source": [
    "- 𝐂𝐨𝐧𝐜𝐞𝐩𝐭 :\n",
    "\n",
    "Model Deployment and Monitoring involve the processes of making trained machine learning models accessible for use in production environments and continuously monitoring their performance and behavior to ensure they deliver reliable and accurate predictions."
   ]
  },
  {
   "cell_type": "markdown",
   "id": "b3c49734",
   "metadata": {},
   "source": [
    "- 𝐊𝐞𝐲 𝐀𝐬𝐩𝐞𝐜𝐭𝐬 :\n",
    "\n",
    "𝟏. 𝐌𝐨𝐝𝐞𝐥 𝐃𝐞𝐩𝐥𝐨𝐲𝐦𝐞𝐧𝐭:\n",
    "   - 𝐏𝐚𝐜𝐤𝐚𝐠𝐢𝐧𝐠: Prepare the model along with necessary dependencies (libraries, configurations).\n",
    "   - 𝐒𝐜𝐚𝐥𝐚𝐛𝐢𝐥𝐢𝐭𝐲: Ensure the model can handle varying workloads and data volumes.\n",
    "   - 𝐈𝐧𝐭𝐞𝐠𝐫𝐚𝐭𝐢𝐨𝐧: Integrate the model into existing software systems or applications for seamless operation.\n",
    "\n",
    "2. 𝐌𝐨𝐝𝐞𝐥 𝐌𝐨𝐧𝐢𝐭𝐨𝐫𝐢𝐧𝐠:\n",
    "   - 𝐏𝐞𝐫𝐟𝐨𝐫𝐦𝐚𝐧𝐜𝐞 𝐌𝐞𝐭𝐫𝐢𝐜𝐬: Track metrics such as accuracy, precision, recall, and F1-score to assess model performance over time.\n",
    "   - 𝐃𝐚𝐭𝐚 𝐃𝐫𝐢𝐟𝐭 𝐃𝐞𝐭𝐞𝐜𝐭𝐢𝐨𝐧: Monitor changes in input data distributions that may affect model performance.\n",
    "   - 𝐌𝐨𝐝𝐞𝐥 𝐃𝐫𝐢𝐟𝐭 𝐃𝐞𝐭𝐞𝐜𝐭𝐢𝐨𝐧: Identify changes in model predictions compared to expected outcomes, indicating the need for retraining or adjustments.\n",
    "   - 𝐅𝐞𝐞𝐝𝐛𝐚𝐜𝐤 𝐋𝐨𝐨𝐩𝐬: Capture user feedback and use it to improve model predictions or update training data.\n",
    "\n",
    "3. 𝐃𝐞𝐩𝐥𝐨𝐲𝐦𝐞𝐧𝐭 𝐓𝐞𝐜𝐡𝐧𝐢𝐪𝐮𝐞𝐬:\n",
    "   - 𝐂𝐨𝐧𝐭𝐚𝐢𝐧𝐞𝐫𝐢𝐳𝐚𝐭𝐢𝐨𝐧: Use Docker to encapsulate the model, libraries, and dependencies for consistency across different environments.\n",
    "   - 𝐒𝐞𝐫𝐯𝐞𝐫𝐥𝐞𝐬𝐬 𝐂𝐨𝐦𝐩𝐮𝐭𝐢𝐧𝐠: Deploy models as functions that automatically scale based on demand (e.g., AWS Lambda, Azure Functions).\n",
    "   - 𝐀𝐏𝐈 𝐈𝐧𝐭𝐞𝐠𝐫𝐚𝐭𝐢𝐨𝐧: Expose models through APIs (Application Programming Interfaces) for easy access and integration with other applications."
   ]
  },
  {
   "cell_type": "markdown",
   "id": "f61f446c",
   "metadata": {},
   "source": [
    "𝐀𝐝𝐯𝐚𝐧𝐭𝐚𝐠𝐞𝐬 :\n",
    "\n",
    "- 𝐒𝐜𝐚𝐥𝐚𝐛𝐢𝐥𝐢𝐭𝐲:𝐂 Easily scale models to handle varying workloads and user demands.\n",
    "- 𝐈𝐧𝐭𝐞𝐠𝐫𝐚𝐭𝐢𝐨𝐧: Seamlessly integrate models into existing applications and systems through APIs.\n",
    "- 𝐂𝐨𝐧𝐭𝐢𝐧𝐮𝐨𝐮𝐬 𝐈𝐦𝐩𝐫𝐨𝐯𝐞𝐦𝐞𝐧𝐭: Monitor and update models based on real-world performance and user feedback."
   ]
  },
  {
   "cell_type": "code",
   "execution_count": null,
   "id": "fca4828d",
   "metadata": {},
   "outputs": [],
   "source": []
  }
 ],
 "metadata": {
  "kernelspec": {
   "display_name": "Python 3 (ipykernel)",
   "language": "python",
   "name": "python3"
  },
  "language_info": {
   "codemirror_mode": {
    "name": "ipython",
    "version": 3
   },
   "file_extension": ".py",
   "mimetype": "text/x-python",
   "name": "python",
   "nbconvert_exporter": "python",
   "pygments_lexer": "ipython3",
   "version": "3.11.5"
  }
 },
 "nbformat": 4,
 "nbformat_minor": 5
}
