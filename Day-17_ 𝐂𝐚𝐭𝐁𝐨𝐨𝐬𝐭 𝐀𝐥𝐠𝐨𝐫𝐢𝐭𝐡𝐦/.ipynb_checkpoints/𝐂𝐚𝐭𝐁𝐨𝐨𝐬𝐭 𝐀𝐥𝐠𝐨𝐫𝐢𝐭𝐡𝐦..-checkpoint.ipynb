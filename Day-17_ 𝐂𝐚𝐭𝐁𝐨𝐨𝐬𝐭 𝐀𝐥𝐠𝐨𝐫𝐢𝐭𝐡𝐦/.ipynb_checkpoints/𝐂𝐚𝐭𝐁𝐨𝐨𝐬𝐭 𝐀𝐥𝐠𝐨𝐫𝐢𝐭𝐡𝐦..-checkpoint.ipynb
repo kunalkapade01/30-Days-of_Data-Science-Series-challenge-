{
 "cells": [
  {
   "cell_type": "markdown",
   "id": "90cafeae",
   "metadata": {},
   "source": [
    "# 𝐂𝐚𝐭𝐁𝐨𝐨𝐬𝐭 𝐀𝐥𝐠𝐨𝐫𝐢𝐭𝐡𝐦 :"
   ]
  },
  {
   "cell_type": "code",
   "execution_count": 1,
   "id": "4327c62a",
   "metadata": {},
   "outputs": [],
   "source": [
    "# Import Library :\n",
    "import pandas as pd\n",
    "import numpy as np"
   ]
  },
  {
   "cell_type": "code",
   "execution_count": 2,
   "id": "9b904370",
   "metadata": {},
   "outputs": [],
   "source": [
    "from sklearn.datasets import load_breast_cancer\n"
   ]
  },
  {
   "cell_type": "code",
   "execution_count": null,
   "id": "91a8d249",
   "metadata": {},
   "outputs": [],
   "source": []
  }
 ],
 "metadata": {
  "kernelspec": {
   "display_name": "Python 3 (ipykernel)",
   "language": "python",
   "name": "python3"
  },
  "language_info": {
   "codemirror_mode": {
    "name": "ipython",
    "version": 3
   },
   "file_extension": ".py",
   "mimetype": "text/x-python",
   "name": "python",
   "nbconvert_exporter": "python",
   "pygments_lexer": "ipython3",
   "version": "3.11.5"
  }
 },
 "nbformat": 4,
 "nbformat_minor": 5
}
