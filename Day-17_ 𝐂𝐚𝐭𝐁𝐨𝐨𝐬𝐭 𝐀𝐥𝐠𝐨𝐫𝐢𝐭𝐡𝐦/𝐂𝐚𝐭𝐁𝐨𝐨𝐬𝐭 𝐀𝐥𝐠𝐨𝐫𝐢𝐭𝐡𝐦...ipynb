{
 "cells": [
  {
   "cell_type": "markdown",
   "id": "90cafeae",
   "metadata": {},
   "source": [
    "# 𝐂𝐚𝐭𝐁𝐨𝐨𝐬𝐭 𝐀𝐥𝐠𝐨𝐫𝐢𝐭𝐡𝐦 :"
   ]
  },
  {
   "cell_type": "markdown",
   "id": "9552039a",
   "metadata": {},
   "source": [
    "- 𝐂𝐚𝐭𝐁𝐨𝐨𝐬𝐭 (𝐂𝐚𝐭𝐞𝐠𝐨𝐫𝐢𝐜𝐚𝐥 𝐁𝐨𝐨𝐬𝐭𝐢𝐧𝐠) 𝐢𝐬 𝐚 𝐠𝐫𝐚𝐝𝐢𝐞𝐧𝐭 𝐛𝐨𝐨𝐬𝐭𝐢𝐧𝐠 𝐥𝐢𝐛𝐫𝐚𝐫𝐲."
   ]
  },
  {
   "cell_type": "code",
   "execution_count": 1,
   "id": "4327c62a",
   "metadata": {},
   "outputs": [],
   "source": [
    "# Import Library :\n",
    "import pandas as pd\n",
    "import numpy as np"
   ]
  },
  {
   "cell_type": "code",
   "execution_count": 5,
   "id": "9b904370",
   "metadata": {},
   "outputs": [],
   "source": [
    "from sklearn.datasets import load_breast_cancer\n",
    "from sklearn.model_selection import train_test_split\n",
    "from sklearn.metrics import accuracy_score, confusion_matrix, classification_report\n",
    "from catboost import CatBoostClassifier"
   ]
  },
  {
   "cell_type": "code",
   "execution_count": 6,
   "id": "91a8d249",
   "metadata": {},
   "outputs": [],
   "source": [
    "# Load DAtasets :\n",
    "data = load_breast_cancer()\n",
    "x = data.data\n",
    "y = data.target"
   ]
  },
  {
   "cell_type": "code",
   "execution_count": 7,
   "id": "77c00503",
   "metadata": {},
   "outputs": [
    {
     "data": {
      "text/plain": [
       "array([[1.799e+01, 1.038e+01, 1.228e+02, ..., 2.654e-01, 4.601e-01,\n",
       "        1.189e-01],\n",
       "       [2.057e+01, 1.777e+01, 1.329e+02, ..., 1.860e-01, 2.750e-01,\n",
       "        8.902e-02],\n",
       "       [1.969e+01, 2.125e+01, 1.300e+02, ..., 2.430e-01, 3.613e-01,\n",
       "        8.758e-02],\n",
       "       ...,\n",
       "       [1.660e+01, 2.808e+01, 1.083e+02, ..., 1.418e-01, 2.218e-01,\n",
       "        7.820e-02],\n",
       "       [2.060e+01, 2.933e+01, 1.401e+02, ..., 2.650e-01, 4.087e-01,\n",
       "        1.240e-01],\n",
       "       [7.760e+00, 2.454e+01, 4.792e+01, ..., 0.000e+00, 2.871e-01,\n",
       "        7.039e-02]])"
      ]
     },
     "execution_count": 7,
     "metadata": {},
     "output_type": "execute_result"
    }
   ],
   "source": [
    "x"
   ]
  },
  {
   "cell_type": "code",
   "execution_count": 8,
   "id": "7155a07a",
   "metadata": {},
   "outputs": [
    {
     "data": {
      "text/plain": [
       "array([0, 0, 0, 0, 0, 0, 0, 0, 0, 0, 0, 0, 0, 0, 0, 0, 0, 0, 0, 1, 1, 1,\n",
       "       0, 0, 0, 0, 0, 0, 0, 0, 0, 0, 0, 0, 0, 0, 0, 1, 0, 0, 0, 0, 0, 0,\n",
       "       0, 0, 1, 0, 1, 1, 1, 1, 1, 0, 0, 1, 0, 0, 1, 1, 1, 1, 0, 1, 0, 0,\n",
       "       1, 1, 1, 1, 0, 1, 0, 0, 1, 0, 1, 0, 0, 1, 1, 1, 0, 0, 1, 0, 0, 0,\n",
       "       1, 1, 1, 0, 1, 1, 0, 0, 1, 1, 1, 0, 0, 1, 1, 1, 1, 0, 1, 1, 0, 1,\n",
       "       1, 1, 1, 1, 1, 1, 1, 0, 0, 0, 1, 0, 0, 1, 1, 1, 0, 0, 1, 0, 1, 0,\n",
       "       0, 1, 0, 0, 1, 1, 0, 1, 1, 0, 1, 1, 1, 1, 0, 1, 1, 1, 1, 1, 1, 1,\n",
       "       1, 1, 0, 1, 1, 1, 1, 0, 0, 1, 0, 1, 1, 0, 0, 1, 1, 0, 0, 1, 1, 1,\n",
       "       1, 0, 1, 1, 0, 0, 0, 1, 0, 1, 0, 1, 1, 1, 0, 1, 1, 0, 0, 1, 0, 0,\n",
       "       0, 0, 1, 0, 0, 0, 1, 0, 1, 0, 1, 1, 0, 1, 0, 0, 0, 0, 1, 1, 0, 0,\n",
       "       1, 1, 1, 0, 1, 1, 1, 1, 1, 0, 0, 1, 1, 0, 1, 1, 0, 0, 1, 0, 1, 1,\n",
       "       1, 1, 0, 1, 1, 1, 1, 1, 0, 1, 0, 0, 0, 0, 0, 0, 0, 0, 0, 0, 0, 0,\n",
       "       0, 0, 1, 1, 1, 1, 1, 1, 0, 1, 0, 1, 1, 0, 1, 1, 0, 1, 0, 0, 1, 1,\n",
       "       1, 1, 1, 1, 1, 1, 1, 1, 1, 1, 1, 0, 1, 1, 0, 1, 0, 1, 1, 1, 1, 1,\n",
       "       1, 1, 1, 1, 1, 1, 1, 1, 1, 0, 1, 1, 1, 0, 1, 0, 1, 1, 1, 1, 0, 0,\n",
       "       0, 1, 1, 1, 1, 0, 1, 0, 1, 0, 1, 1, 1, 0, 1, 1, 1, 1, 1, 1, 1, 0,\n",
       "       0, 0, 1, 1, 1, 1, 1, 1, 1, 1, 1, 1, 1, 0, 0, 1, 0, 0, 0, 1, 0, 0,\n",
       "       1, 1, 1, 1, 1, 0, 1, 1, 1, 1, 1, 0, 1, 1, 1, 0, 1, 1, 0, 0, 1, 1,\n",
       "       1, 1, 1, 1, 0, 1, 1, 1, 1, 1, 1, 1, 0, 1, 1, 1, 1, 1, 0, 1, 1, 0,\n",
       "       1, 1, 1, 1, 1, 1, 1, 1, 1, 1, 1, 1, 0, 1, 0, 0, 1, 0, 1, 1, 1, 1,\n",
       "       1, 0, 1, 1, 0, 1, 0, 1, 1, 0, 1, 0, 1, 1, 1, 1, 1, 1, 1, 1, 0, 0,\n",
       "       1, 1, 1, 1, 1, 1, 0, 1, 1, 1, 1, 1, 1, 1, 1, 1, 1, 0, 1, 1, 1, 1,\n",
       "       1, 1, 1, 0, 1, 0, 1, 1, 0, 1, 1, 1, 1, 1, 0, 0, 1, 0, 1, 0, 1, 1,\n",
       "       1, 1, 1, 0, 1, 1, 0, 1, 0, 1, 0, 0, 1, 1, 1, 0, 1, 1, 1, 1, 1, 1,\n",
       "       1, 1, 1, 1, 1, 0, 1, 0, 0, 1, 1, 1, 1, 1, 1, 1, 1, 1, 1, 1, 1, 1,\n",
       "       1, 1, 1, 1, 1, 1, 1, 1, 1, 1, 1, 1, 0, 0, 0, 0, 0, 0, 1])"
      ]
     },
     "execution_count": 8,
     "metadata": {},
     "output_type": "execute_result"
    }
   ],
   "source": [
    "y"
   ]
  },
  {
   "cell_type": "code",
   "execution_count": 9,
   "id": "b4b44d51",
   "metadata": {},
   "outputs": [],
   "source": [
    "# Spliting the data into train and test:\n",
    "x_train, x_test, y_train, y_test = train_test_split(x, y, test_size=0.25, random_state=12)"
   ]
  },
  {
   "cell_type": "code",
   "execution_count": 11,
   "id": "e61a24be",
   "metadata": {},
   "outputs": [
    {
     "data": {
      "text/plain": [
       "<catboost.core.CatBoostClassifier at 0x27a829a6a50>"
      ]
     },
     "execution_count": 11,
     "metadata": {},
     "output_type": "execute_result"
    }
   ],
   "source": [
    "# Create and train the CatBoost model:\n",
    "model = CatBoostClassifier(iterations=1000, learning_rate=0.1, depth=6, verbose=0)\n",
    "model.fit(x_train, y_train)"
   ]
  },
  {
   "cell_type": "code",
   "execution_count": 12,
   "id": "468714e8",
   "metadata": {},
   "outputs": [
    {
     "data": {
      "text/plain": [
       "array([0, 1, 1, 1, 1, 1, 1, 1, 1, 0, 1, 0, 0, 0, 0, 1, 1, 0, 1, 1, 1, 0,\n",
       "       1, 1, 0, 0, 1, 0, 1, 0, 1, 0, 0, 1, 0, 1, 1, 0, 0, 0, 1, 1, 1, 1,\n",
       "       1, 0, 0, 1, 1, 1, 1, 1, 1, 0, 0, 1, 1, 1, 0, 0, 1, 0, 1, 0, 1, 1,\n",
       "       1, 1, 0, 1, 1, 1, 0, 0, 0, 0, 1, 1, 1, 0, 0, 1, 0, 1, 1, 1, 1, 0,\n",
       "       0, 0, 0, 0, 1, 1, 1, 1, 1, 1, 1, 1, 1, 1, 0, 1, 1, 1, 0, 1, 0, 0,\n",
       "       1, 1, 1, 1, 1, 1, 1, 1, 1, 1, 1, 1, 1, 1, 1, 1, 1, 0, 0, 0, 0, 1,\n",
       "       1, 1, 1, 1, 1, 1, 1, 0, 1, 1, 1], dtype=int64)"
      ]
     },
     "execution_count": 12,
     "metadata": {},
     "output_type": "execute_result"
    }
   ],
   "source": [
    "# Making prediction:\n",
    "y_pred = model.predict(x_test)\n",
    "y_pred"
   ]
  },
  {
   "cell_type": "code",
   "execution_count": 13,
   "id": "9c20f492",
   "metadata": {},
   "outputs": [],
   "source": [
    "# Evalute the model:\n",
    "accuracy = accuracy_score(y_test, y_pred)\n",
    "conf_matrix = confusion_matrix(y_test, y_pred)\n",
    "class_report = classification_report(y_test, y_pred)"
   ]
  },
  {
   "cell_type": "code",
   "execution_count": 17,
   "id": "e60f690a",
   "metadata": {},
   "outputs": [
    {
     "name": "stdout",
     "output_type": "stream",
     "text": [
      "𝐀𝐜𝐜𝐮𝐫𝐚𝐜𝐲: 0.9736842105263158\n",
      "𝐂𝐨𝐧𝐟𝐮𝐬𝐢𝐨𝐧 𝐌𝐚𝐭𝐫𝐢𝐱: \n",
      "[[41  2]\n",
      " [ 1 70]]\n",
      "𝐂𝐥𝐚𝐬𝐬𝐟𝐢𝐜𝐚𝐭𝐢𝐨𝐧 𝐑𝐞𝐩𝐨𝐫𝐭: \n",
      "              precision    recall  f1-score   support\n",
      "\n",
      "           0       0.98      0.95      0.96        43\n",
      "           1       0.97      0.99      0.98        71\n",
      "\n",
      "    accuracy                           0.97       114\n",
      "   macro avg       0.97      0.97      0.97       114\n",
      "weighted avg       0.97      0.97      0.97       114\n",
      "\n"
     ]
    }
   ],
   "source": [
    "# print the model:\n",
    "print(f\"𝐀𝐜𝐜𝐮𝐫𝐚𝐜𝐲: {accuracy}\")\n",
    "print(f\"𝐂𝐨𝐧𝐟𝐮𝐬𝐢𝐨𝐧 𝐌𝐚𝐭𝐫𝐢𝐱: \\n{conf_matrix}\")\n",
    "print(f\"𝐂𝐥𝐚𝐬𝐬𝐟𝐢𝐜𝐚𝐭𝐢𝐨𝐧 𝐑𝐞𝐩𝐨𝐫𝐭: \\n{class_report}\")"
   ]
  },
  {
   "cell_type": "markdown",
   "id": "1a912072",
   "metadata": {},
   "source": [
    "𝐂𝐨𝐧𝐜𝐞𝐩𝐭:  CatBoost (𝐂𝐚𝐭𝐞𝐠𝐨𝐫𝐢𝐜𝐚𝐥 𝐁𝐨𝐨𝐬𝐭𝐢𝐧𝐠) is a 𝐆𝐫𝐚𝐝𝐢𝐞𝐧𝐭 𝐁𝐨𝐨𝐬𝐭𝐢𝐧𝐠 library that is particularly effective for datasets that include categorical features. It is designed to handle categorical data natively without the need for extensive preprocessing, such as one-hot encoding, which can lead to better performance and ease of use."
   ]
  },
  {
   "cell_type": "markdown",
   "id": "60c36228",
   "metadata": {},
   "source": [
    "𝐊𝐞𝐲 𝐅𝐞𝐚𝐭𝐮𝐫𝐞𝐬 𝐨𝐟 𝐂𝐚𝐭𝐁𝐨𝐨𝐬𝐭 :\n",
    "    \n",
    "- 𝐇𝐚𝐧𝐝𝐥𝐢𝐧𝐠 𝐂𝐚𝐭𝐞𝐠𝐨𝐫𝐢𝐜𝐚𝐥 𝐅𝐞𝐚𝐭𝐮𝐫𝐞𝐬: Uses ordered boosting and a special technique to handle categorical features without needing preprocessing.\n",
    "- 𝐎𝐫𝐝𝐞𝐫𝐞𝐝 𝐁𝐨𝐨𝐬𝐭𝐢𝐧𝐠: A technique to reduce overfitting by processing data in a specific order.\n",
    "- 𝐒𝐲𝐦𝐦𝐞𝐭𝐫𝐢𝐜 𝐓𝐫𝐞𝐞𝐬: Ensures efficient memory usage and faster predictions by growing trees symmetrically.\n",
    "- 𝐑𝐨𝐛𝐮𝐬𝐭 𝐭𝐨 𝐎𝐯𝐞𝐫𝐟𝐢𝐭𝐭𝐢𝐧𝐠: Incorporates techniques to minimize overfitting, making it suitable for various types of data.\n",
    "- 𝐄𝐟𝐟𝐢𝐜𝐢𝐞𝐧𝐭 𝐆𝐏𝐔 𝐓𝐫𝐚𝐢𝐧𝐢𝐧𝐠: Supports fast training on GPU, which can significantly reduce training time."
   ]
  },
  {
   "cell_type": "markdown",
   "id": "398ffd9e",
   "metadata": {},
   "source": [
    "𝐊𝐞𝐲 𝐒𝐭𝐞𝐩𝐬 :\n",
    "- 𝐃𝐞𝐟𝐢𝐧𝐞 𝐭𝐡𝐞 𝐎𝐛𝐣𝐞𝐜𝐭𝐢𝐯𝐞 𝐅𝐮𝐧𝐜𝐭𝐢𝐨𝐧: The loss function to be minimized.\n",
    "- 𝐂𝐨𝐦𝐩𝐮𝐭𝐞 𝐆𝐫𝐚𝐝𝐢𝐞𝐧𝐭𝐬: Calculate the gradients of the loss function.\n",
    "- 𝐅𝐢𝐭 𝐭𝐡𝐞 𝐓𝐫𝐞𝐞𝐬: Train decision trees to predict the gradients.\n",
    "- 𝐔𝐩𝐝𝐚𝐭𝐞 𝐭𝐡𝐞 𝐌𝐨𝐝𝐞𝐥: Combine the predictions of all trees to make the final prediction."
   ]
  },
  {
   "cell_type": "markdown",
   "id": "1a3559ae",
   "metadata": {},
   "source": [
    "𝐀𝐩𝐩𝐥𝐢𝐜𝐚𝐭𝐢𝐨𝐧𝐬 :\n",
    "\n",
    "CatBoost is widely used in various fields such as:\n",
    "- 𝐅𝐢𝐧𝐚𝐧𝐜𝐞: Fraud detection, credit scoring.\n",
    "- 𝐇𝐞𝐚𝐥𝐭𝐡𝐜𝐚𝐫𝐞: Disease prediction, patient risk stratification.\n",
    "- 𝐌𝐚𝐫𝐤𝐞𝐭𝐢𝐧𝐠: Customer segmentation, churn prediction.\n",
    "- 𝐄-𝐜𝐨𝐦𝐦𝐞𝐫𝐜𝐞: Product recommendation, customer behavior analysis."
   ]
  },
  {
   "cell_type": "code",
   "execution_count": null,
   "id": "c6c10dca",
   "metadata": {},
   "outputs": [],
   "source": []
  }
 ],
 "metadata": {
  "kernelspec": {
   "display_name": "Python 3 (ipykernel)",
   "language": "python",
   "name": "python3"
  },
  "language_info": {
   "codemirror_mode": {
    "name": "ipython",
    "version": 3
   },
   "file_extension": ".py",
   "mimetype": "text/x-python",
   "name": "python",
   "nbconvert_exporter": "python",
   "pygments_lexer": "ipython3",
   "version": "3.11.5"
  }
 },
 "nbformat": 4,
 "nbformat_minor": 5
}
