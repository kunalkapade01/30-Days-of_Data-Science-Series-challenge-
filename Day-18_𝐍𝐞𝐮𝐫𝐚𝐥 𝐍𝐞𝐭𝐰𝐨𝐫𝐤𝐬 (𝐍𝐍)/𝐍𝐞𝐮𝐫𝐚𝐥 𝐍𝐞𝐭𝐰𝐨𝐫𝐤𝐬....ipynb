{
 "cells": [
  {
   "cell_type": "markdown",
   "id": "eb9a7448",
   "metadata": {},
   "source": [
    "# 𝐍𝐞𝐮𝐫𝐚𝐥 𝐍𝐞𝐭𝐰𝐨𝐫𝐤𝐬(𝐍𝐍) :"
   ]
  },
  {
   "cell_type": "code",
   "execution_count": 1,
   "id": "4243c40c",
   "metadata": {},
   "outputs": [],
   "source": [
    "# Import Necessart Library :\n",
    "import numpy as np\n",
    "from sklearn.datasets import load_breast_cancer\n",
    "from sklearn.model_selection import train_test_split\n",
    "from sklearn.preprocessing import StandardScaler\n",
    "from sklearn.metrics import accuracy_score, confusion_matrix, classification_report"
   ]
  },
  {
   "cell_type": "code",
   "execution_count": 2,
   "id": "96909001",
   "metadata": {},
   "outputs": [
    {
     "name": "stdout",
     "output_type": "stream",
     "text": [
      "WARNING:tensorflow:From C:\\Users\\kunal\\anaconda3\\Lib\\site-packages\\keras\\src\\losses.py:2976: The name tf.losses.sparse_softmax_cross_entropy is deprecated. Please use tf.compat.v1.losses.sparse_softmax_cross_entropy instead.\n",
      "\n"
     ]
    }
   ],
   "source": [
    "# Import TensorFlow Library:\n",
    "import tensorflow as tf\n",
    "from tensorflow.keras.models import Sequential\n",
    "from tensorflow.keras.layers import Dense"
   ]
  },
  {
   "cell_type": "code",
   "execution_count": 3,
   "id": "708a480b",
   "metadata": {},
   "outputs": [],
   "source": [
    "# Load the Datasets:\n",
    "data = load_breast_cancer()\n",
    "x = data.data\n",
    "y = data.target"
   ]
  },
  {
   "cell_type": "code",
   "execution_count": 4,
   "id": "6e0c5834",
   "metadata": {},
   "outputs": [
    {
     "data": {
      "text/plain": [
       "array([[1.799e+01, 1.038e+01, 1.228e+02, ..., 2.654e-01, 4.601e-01,\n",
       "        1.189e-01],\n",
       "       [2.057e+01, 1.777e+01, 1.329e+02, ..., 1.860e-01, 2.750e-01,\n",
       "        8.902e-02],\n",
       "       [1.969e+01, 2.125e+01, 1.300e+02, ..., 2.430e-01, 3.613e-01,\n",
       "        8.758e-02],\n",
       "       ...,\n",
       "       [1.660e+01, 2.808e+01, 1.083e+02, ..., 1.418e-01, 2.218e-01,\n",
       "        7.820e-02],\n",
       "       [2.060e+01, 2.933e+01, 1.401e+02, ..., 2.650e-01, 4.087e-01,\n",
       "        1.240e-01],\n",
       "       [7.760e+00, 2.454e+01, 4.792e+01, ..., 0.000e+00, 2.871e-01,\n",
       "        7.039e-02]])"
      ]
     },
     "execution_count": 4,
     "metadata": {},
     "output_type": "execute_result"
    }
   ],
   "source": [
    "x"
   ]
  },
  {
   "cell_type": "code",
   "execution_count": 5,
   "id": "e2e88033",
   "metadata": {},
   "outputs": [
    {
     "data": {
      "text/plain": [
       "array([0, 0, 0, 0, 0, 0, 0, 0, 0, 0, 0, 0, 0, 0, 0, 0, 0, 0, 0, 1, 1, 1,\n",
       "       0, 0, 0, 0, 0, 0, 0, 0, 0, 0, 0, 0, 0, 0, 0, 1, 0, 0, 0, 0, 0, 0,\n",
       "       0, 0, 1, 0, 1, 1, 1, 1, 1, 0, 0, 1, 0, 0, 1, 1, 1, 1, 0, 1, 0, 0,\n",
       "       1, 1, 1, 1, 0, 1, 0, 0, 1, 0, 1, 0, 0, 1, 1, 1, 0, 0, 1, 0, 0, 0,\n",
       "       1, 1, 1, 0, 1, 1, 0, 0, 1, 1, 1, 0, 0, 1, 1, 1, 1, 0, 1, 1, 0, 1,\n",
       "       1, 1, 1, 1, 1, 1, 1, 0, 0, 0, 1, 0, 0, 1, 1, 1, 0, 0, 1, 0, 1, 0,\n",
       "       0, 1, 0, 0, 1, 1, 0, 1, 1, 0, 1, 1, 1, 1, 0, 1, 1, 1, 1, 1, 1, 1,\n",
       "       1, 1, 0, 1, 1, 1, 1, 0, 0, 1, 0, 1, 1, 0, 0, 1, 1, 0, 0, 1, 1, 1,\n",
       "       1, 0, 1, 1, 0, 0, 0, 1, 0, 1, 0, 1, 1, 1, 0, 1, 1, 0, 0, 1, 0, 0,\n",
       "       0, 0, 1, 0, 0, 0, 1, 0, 1, 0, 1, 1, 0, 1, 0, 0, 0, 0, 1, 1, 0, 0,\n",
       "       1, 1, 1, 0, 1, 1, 1, 1, 1, 0, 0, 1, 1, 0, 1, 1, 0, 0, 1, 0, 1, 1,\n",
       "       1, 1, 0, 1, 1, 1, 1, 1, 0, 1, 0, 0, 0, 0, 0, 0, 0, 0, 0, 0, 0, 0,\n",
       "       0, 0, 1, 1, 1, 1, 1, 1, 0, 1, 0, 1, 1, 0, 1, 1, 0, 1, 0, 0, 1, 1,\n",
       "       1, 1, 1, 1, 1, 1, 1, 1, 1, 1, 1, 0, 1, 1, 0, 1, 0, 1, 1, 1, 1, 1,\n",
       "       1, 1, 1, 1, 1, 1, 1, 1, 1, 0, 1, 1, 1, 0, 1, 0, 1, 1, 1, 1, 0, 0,\n",
       "       0, 1, 1, 1, 1, 0, 1, 0, 1, 0, 1, 1, 1, 0, 1, 1, 1, 1, 1, 1, 1, 0,\n",
       "       0, 0, 1, 1, 1, 1, 1, 1, 1, 1, 1, 1, 1, 0, 0, 1, 0, 0, 0, 1, 0, 0,\n",
       "       1, 1, 1, 1, 1, 0, 1, 1, 1, 1, 1, 0, 1, 1, 1, 0, 1, 1, 0, 0, 1, 1,\n",
       "       1, 1, 1, 1, 0, 1, 1, 1, 1, 1, 1, 1, 0, 1, 1, 1, 1, 1, 0, 1, 1, 0,\n",
       "       1, 1, 1, 1, 1, 1, 1, 1, 1, 1, 1, 1, 0, 1, 0, 0, 1, 0, 1, 1, 1, 1,\n",
       "       1, 0, 1, 1, 0, 1, 0, 1, 1, 0, 1, 0, 1, 1, 1, 1, 1, 1, 1, 1, 0, 0,\n",
       "       1, 1, 1, 1, 1, 1, 0, 1, 1, 1, 1, 1, 1, 1, 1, 1, 1, 0, 1, 1, 1, 1,\n",
       "       1, 1, 1, 0, 1, 0, 1, 1, 0, 1, 1, 1, 1, 1, 0, 0, 1, 0, 1, 0, 1, 1,\n",
       "       1, 1, 1, 0, 1, 1, 0, 1, 0, 1, 0, 0, 1, 1, 1, 0, 1, 1, 1, 1, 1, 1,\n",
       "       1, 1, 1, 1, 1, 0, 1, 0, 0, 1, 1, 1, 1, 1, 1, 1, 1, 1, 1, 1, 1, 1,\n",
       "       1, 1, 1, 1, 1, 1, 1, 1, 1, 1, 1, 1, 0, 0, 0, 0, 0, 0, 1])"
      ]
     },
     "execution_count": 5,
     "metadata": {},
     "output_type": "execute_result"
    }
   ],
   "source": [
    "y"
   ]
  },
  {
   "cell_type": "code",
   "execution_count": 6,
   "id": "2c91427e",
   "metadata": {},
   "outputs": [],
   "source": [
    "# Spliting the data into training and testing :\n",
    "x_train, x_test, y_train, y_test = train_test_split(x, y, test_size=0.25, random_state=12)"
   ]
  },
  {
   "cell_type": "code",
   "execution_count": 7,
   "id": "7be0b70d",
   "metadata": {},
   "outputs": [],
   "source": [
    "# convert the data into StandScaler:\n",
    "scaler = StandardScaler()\n",
    "x_train = scaler.fit_transform(x_train)\n",
    "x_test = scaler.transform(x_test)"
   ]
  },
  {
   "cell_type": "code",
   "execution_count": 8,
   "id": "c85ae6dc",
   "metadata": {},
   "outputs": [
    {
     "name": "stdout",
     "output_type": "stream",
     "text": [
      "WARNING:tensorflow:From C:\\Users\\kunal\\anaconda3\\Lib\\site-packages\\keras\\src\\backend.py:873: The name tf.get_default_graph is deprecated. Please use tf.compat.v1.get_default_graph instead.\n",
      "\n"
     ]
    }
   ],
   "source": [
    "# Create the Neural Network (NN) model:\n",
    "model = Sequential([\n",
    "    Dense(30, input_shape=(x_train.shape[1],), activation=\"relu\"),\n",
    "    Dense(15, activation=\"relu\"),\n",
    "    Dense(1, activation=\"sigmoid\")\n",
    "])"
   ]
  },
  {
   "cell_type": "code",
   "execution_count": 9,
   "id": "2f747562",
   "metadata": {},
   "outputs": [
    {
     "name": "stdout",
     "output_type": "stream",
     "text": [
      "WARNING:tensorflow:From C:\\Users\\kunal\\anaconda3\\Lib\\site-packages\\keras\\src\\optimizers\\__init__.py:309: The name tf.train.Optimizer is deprecated. Please use tf.compat.v1.train.Optimizer instead.\n",
      "\n"
     ]
    }
   ],
   "source": [
    "# Compile the model:\n",
    "model.compile(optimizer=\"adam\", loss=\"binary_crossentropy\", metrics=[\"Accuracy\"])"
   ]
  },
  {
   "cell_type": "code",
   "execution_count": 10,
   "id": "4d7c5e96",
   "metadata": {
    "scrolled": true
   },
   "outputs": [
    {
     "name": "stdout",
     "output_type": "stream",
     "text": [
      "Epoch 1/50\n",
      "WARNING:tensorflow:From C:\\Users\\kunal\\anaconda3\\Lib\\site-packages\\keras\\src\\utils\\tf_utils.py:492: The name tf.ragged.RaggedTensorValue is deprecated. Please use tf.compat.v1.ragged.RaggedTensorValue instead.\n",
      "\n",
      "WARNING:tensorflow:From C:\\Users\\kunal\\anaconda3\\Lib\\site-packages\\keras\\src\\engine\\base_layer_utils.py:384: The name tf.executing_eagerly_outside_functions is deprecated. Please use tf.compat.v1.executing_eagerly_outside_functions instead.\n",
      "\n",
      "34/34 [==============================] - 3s 29ms/step - loss: 0.4761 - Accuracy: 0.8265 - val_loss: 0.2983 - val_Accuracy: 0.8837\n",
      "Epoch 2/50\n",
      "34/34 [==============================] - 0s 8ms/step - loss: 0.2149 - Accuracy: 0.9471 - val_loss: 0.1831 - val_Accuracy: 0.9302\n",
      "Epoch 3/50\n",
      "34/34 [==============================] - 0s 8ms/step - loss: 0.1344 - Accuracy: 0.9676 - val_loss: 0.1404 - val_Accuracy: 0.9302\n",
      "Epoch 4/50\n",
      "34/34 [==============================] - 0s 8ms/step - loss: 0.0956 - Accuracy: 0.9853 - val_loss: 0.1203 - val_Accuracy: 0.9535\n",
      "Epoch 5/50\n",
      "34/34 [==============================] - 0s 8ms/step - loss: 0.0736 - Accuracy: 0.9824 - val_loss: 0.1059 - val_Accuracy: 0.9535\n",
      "Epoch 6/50\n",
      "34/34 [==============================] - 0s 13ms/step - loss: 0.0603 - Accuracy: 0.9853 - val_loss: 0.0946 - val_Accuracy: 0.9535\n",
      "Epoch 7/50\n",
      "34/34 [==============================] - 0s 7ms/step - loss: 0.0506 - Accuracy: 0.9853 - val_loss: 0.0863 - val_Accuracy: 0.9651\n",
      "Epoch 8/50\n",
      "34/34 [==============================] - 0s 7ms/step - loss: 0.0430 - Accuracy: 0.9853 - val_loss: 0.0821 - val_Accuracy: 0.9767\n",
      "Epoch 9/50\n",
      "34/34 [==============================] - 0s 7ms/step - loss: 0.0384 - Accuracy: 0.9882 - val_loss: 0.0764 - val_Accuracy: 0.9767\n",
      "Epoch 10/50\n",
      "34/34 [==============================] - 0s 7ms/step - loss: 0.0338 - Accuracy: 0.9912 - val_loss: 0.0719 - val_Accuracy: 0.9767\n",
      "Epoch 11/50\n",
      "34/34 [==============================] - 0s 8ms/step - loss: 0.0308 - Accuracy: 0.9912 - val_loss: 0.0673 - val_Accuracy: 0.9767\n",
      "Epoch 12/50\n",
      "34/34 [==============================] - 0s 8ms/step - loss: 0.0269 - Accuracy: 0.9941 - val_loss: 0.0646 - val_Accuracy: 0.9767\n",
      "Epoch 13/50\n",
      "34/34 [==============================] - 0s 7ms/step - loss: 0.0241 - Accuracy: 0.9941 - val_loss: 0.0638 - val_Accuracy: 0.9767\n",
      "Epoch 14/50\n",
      "34/34 [==============================] - 0s 8ms/step - loss: 0.0223 - Accuracy: 0.9971 - val_loss: 0.0605 - val_Accuracy: 0.9884\n",
      "Epoch 15/50\n",
      "34/34 [==============================] - 0s 7ms/step - loss: 0.0201 - Accuracy: 0.9971 - val_loss: 0.0568 - val_Accuracy: 0.9884\n",
      "Epoch 16/50\n",
      "34/34 [==============================] - 0s 6ms/step - loss: 0.0188 - Accuracy: 0.9971 - val_loss: 0.0568 - val_Accuracy: 0.9767\n",
      "Epoch 17/50\n",
      "34/34 [==============================] - 0s 6ms/step - loss: 0.0172 - Accuracy: 0.9941 - val_loss: 0.0546 - val_Accuracy: 0.9767\n",
      "Epoch 18/50\n",
      "34/34 [==============================] - 0s 8ms/step - loss: 0.0159 - Accuracy: 0.9971 - val_loss: 0.0533 - val_Accuracy: 0.9767\n",
      "Epoch 19/50\n",
      "34/34 [==============================] - 0s 8ms/step - loss: 0.0136 - Accuracy: 0.9971 - val_loss: 0.0499 - val_Accuracy: 0.9884\n",
      "Epoch 20/50\n",
      "34/34 [==============================] - 0s 8ms/step - loss: 0.0128 - Accuracy: 0.9971 - val_loss: 0.0506 - val_Accuracy: 0.9884\n",
      "Epoch 21/50\n",
      "34/34 [==============================] - 0s 7ms/step - loss: 0.0127 - Accuracy: 0.9971 - val_loss: 0.0459 - val_Accuracy: 0.9884\n",
      "Epoch 22/50\n",
      "34/34 [==============================] - 0s 8ms/step - loss: 0.0103 - Accuracy: 1.0000 - val_loss: 0.0492 - val_Accuracy: 0.9884\n",
      "Epoch 23/50\n",
      "34/34 [==============================] - 0s 8ms/step - loss: 0.0102 - Accuracy: 0.9971 - val_loss: 0.0501 - val_Accuracy: 0.9884\n",
      "Epoch 24/50\n",
      "34/34 [==============================] - 0s 8ms/step - loss: 0.0087 - Accuracy: 1.0000 - val_loss: 0.0461 - val_Accuracy: 0.9884\n",
      "Epoch 25/50\n",
      "34/34 [==============================] - 0s 7ms/step - loss: 0.0083 - Accuracy: 1.0000 - val_loss: 0.0473 - val_Accuracy: 0.9884\n",
      "Epoch 26/50\n",
      "34/34 [==============================] - 0s 7ms/step - loss: 0.0074 - Accuracy: 1.0000 - val_loss: 0.0478 - val_Accuracy: 0.9884\n",
      "Epoch 27/50\n",
      "34/34 [==============================] - 0s 8ms/step - loss: 0.0068 - Accuracy: 1.0000 - val_loss: 0.0482 - val_Accuracy: 0.9884\n",
      "Epoch 28/50\n",
      "34/34 [==============================] - 0s 9ms/step - loss: 0.0062 - Accuracy: 1.0000 - val_loss: 0.0489 - val_Accuracy: 0.9884\n",
      "Epoch 29/50\n",
      "34/34 [==============================] - 0s 8ms/step - loss: 0.0059 - Accuracy: 1.0000 - val_loss: 0.0461 - val_Accuracy: 0.9884\n",
      "Epoch 30/50\n",
      "34/34 [==============================] - 0s 7ms/step - loss: 0.0053 - Accuracy: 1.0000 - val_loss: 0.0477 - val_Accuracy: 0.9884\n",
      "Epoch 31/50\n",
      "34/34 [==============================] - 0s 7ms/step - loss: 0.0050 - Accuracy: 1.0000 - val_loss: 0.0471 - val_Accuracy: 0.9884\n",
      "Epoch 32/50\n",
      "34/34 [==============================] - 0s 8ms/step - loss: 0.0045 - Accuracy: 1.0000 - val_loss: 0.0508 - val_Accuracy: 0.9884\n",
      "Epoch 33/50\n",
      "34/34 [==============================] - 0s 8ms/step - loss: 0.0042 - Accuracy: 1.0000 - val_loss: 0.0480 - val_Accuracy: 0.9884\n",
      "Epoch 34/50\n",
      "34/34 [==============================] - 0s 7ms/step - loss: 0.0039 - Accuracy: 1.0000 - val_loss: 0.0482 - val_Accuracy: 0.9884\n",
      "Epoch 35/50\n",
      "34/34 [==============================] - 0s 7ms/step - loss: 0.0036 - Accuracy: 1.0000 - val_loss: 0.0492 - val_Accuracy: 0.9884\n",
      "Epoch 36/50\n",
      "34/34 [==============================] - 0s 6ms/step - loss: 0.0033 - Accuracy: 1.0000 - val_loss: 0.0489 - val_Accuracy: 0.9884\n",
      "Epoch 37/50\n",
      "34/34 [==============================] - 0s 8ms/step - loss: 0.0031 - Accuracy: 1.0000 - val_loss: 0.0496 - val_Accuracy: 0.9884\n",
      "Epoch 38/50\n",
      "34/34 [==============================] - 0s 8ms/step - loss: 0.0029 - Accuracy: 1.0000 - val_loss: 0.0500 - val_Accuracy: 0.9884\n",
      "Epoch 39/50\n",
      "34/34 [==============================] - 0s 7ms/step - loss: 0.0027 - Accuracy: 1.0000 - val_loss: 0.0484 - val_Accuracy: 0.9884\n",
      "Epoch 40/50\n",
      "34/34 [==============================] - 0s 8ms/step - loss: 0.0026 - Accuracy: 1.0000 - val_loss: 0.0511 - val_Accuracy: 0.9884\n",
      "Epoch 41/50\n",
      "34/34 [==============================] - 0s 9ms/step - loss: 0.0024 - Accuracy: 1.0000 - val_loss: 0.0508 - val_Accuracy: 0.9884\n",
      "Epoch 42/50\n",
      "34/34 [==============================] - 0s 8ms/step - loss: 0.0023 - Accuracy: 1.0000 - val_loss: 0.0524 - val_Accuracy: 0.9884\n",
      "Epoch 43/50\n",
      "34/34 [==============================] - 0s 7ms/step - loss: 0.0021 - Accuracy: 1.0000 - val_loss: 0.0497 - val_Accuracy: 0.9884\n",
      "Epoch 44/50\n",
      "34/34 [==============================] - 0s 7ms/step - loss: 0.0019 - Accuracy: 1.0000 - val_loss: 0.0515 - val_Accuracy: 0.9884\n",
      "Epoch 45/50\n",
      "34/34 [==============================] - 0s 9ms/step - loss: 0.0019 - Accuracy: 1.0000 - val_loss: 0.0510 - val_Accuracy: 0.9884\n",
      "Epoch 46/50\n",
      "34/34 [==============================] - 0s 9ms/step - loss: 0.0017 - Accuracy: 1.0000 - val_loss: 0.0516 - val_Accuracy: 0.9884\n",
      "Epoch 47/50\n",
      "34/34 [==============================] - 0s 8ms/step - loss: 0.0016 - Accuracy: 1.0000 - val_loss: 0.0526 - val_Accuracy: 0.9884\n",
      "Epoch 48/50\n",
      "34/34 [==============================] - 0s 9ms/step - loss: 0.0016 - Accuracy: 1.0000 - val_loss: 0.0547 - val_Accuracy: 0.9884\n",
      "Epoch 49/50\n",
      "34/34 [==============================] - 0s 8ms/step - loss: 0.0015 - Accuracy: 1.0000 - val_loss: 0.0523 - val_Accuracy: 0.9884\n",
      "Epoch 50/50\n",
      "34/34 [==============================] - 0s 7ms/step - loss: 0.0014 - Accuracy: 1.0000 - val_loss: 0.0536 - val_Accuracy: 0.9884\n"
     ]
    },
    {
     "data": {
      "text/plain": [
       "<keras.src.callbacks.History at 0x19d468f2dd0>"
      ]
     },
     "execution_count": 10,
     "metadata": {},
     "output_type": "execute_result"
    }
   ],
   "source": [
    "# Train the model:\n",
    "model.fit(x_train, y_train, epochs=50, batch_size=10, validation_split=0.2, verbose=1)"
   ]
  },
  {
   "cell_type": "code",
   "execution_count": 11,
   "id": "fdde7ff4",
   "metadata": {},
   "outputs": [
    {
     "name": "stdout",
     "output_type": "stream",
     "text": [
      "5/5 [==============================] - 0s 6ms/step\n"
     ]
    }
   ],
   "source": [
    "# Making prediction:\n",
    "y_pred = (model.predict(x_test) > 0.5).astype(\"int32\")"
   ]
  },
  {
   "cell_type": "code",
   "execution_count": 12,
   "id": "e9fe3da2",
   "metadata": {},
   "outputs": [],
   "source": [
    "# Evalution the model:\n",
    "acuuracy = accuracy_score(y_test, y_pred)\n",
    "conf_matri = confusion_matrix(y_test, y_pred)\n",
    "class_report = classification_report(y_test, y_pred)"
   ]
  },
  {
   "cell_type": "code",
   "execution_count": 13,
   "id": "b7e237c3",
   "metadata": {
    "scrolled": true
   },
   "outputs": [
    {
     "name": "stdout",
     "output_type": "stream",
     "text": [
      "𝐀𝐜𝐜𝐮𝐫𝐚𝐜𝐲: 0.965034965034965\n",
      "𝐂𝐨𝐧𝐟𝐮𝐬𝐢𝐨𝐧 𝐌𝐚𝐭𝐫𝐢𝐱: \n",
      "[[49  4]\n",
      " [ 1 89]]\n",
      "𝐂𝐥𝐚𝐬𝐬𝐢𝐟𝐢𝐜𝐚𝐭𝐢𝐨𝐧 𝐑𝐞𝐩𝐨𝐫𝐭: \n",
      "              precision    recall  f1-score   support\n",
      "\n",
      "           0       0.98      0.92      0.95        53\n",
      "           1       0.96      0.99      0.97        90\n",
      "\n",
      "    accuracy                           0.97       143\n",
      "   macro avg       0.97      0.96      0.96       143\n",
      "weighted avg       0.97      0.97      0.96       143\n",
      "\n"
     ]
    }
   ],
   "source": [
    "# Print this:\n",
    "print(f\"𝐀𝐜𝐜𝐮𝐫𝐚𝐜𝐲: {acuuracy}\")\n",
    "print(f\"𝐂𝐨𝐧𝐟𝐮𝐬𝐢𝐨𝐧 𝐌𝐚𝐭𝐫𝐢𝐱: \\n{conf_matri}\")\n",
    "print(f\"𝐂𝐥𝐚𝐬𝐬𝐢𝐟𝐢𝐜𝐚𝐭𝐢𝐨𝐧 𝐑𝐞𝐩𝐨𝐫𝐭: \\n{class_report}\")"
   ]
  },
  {
   "cell_type": "markdown",
   "id": "5f8a83be",
   "metadata": {},
   "source": [
    "- 𝐄𝐱𝐚𝐦𝐩𝐥𝐞 𝐰𝐢𝐭𝐡 𝐃𝐫𝐨𝐩𝐨𝐮𝐭 𝐚𝐧𝐝 𝐁𝐚𝐭𝐜𝐡 𝐍𝐨𝐫𝐦𝐚𝐥𝐢𝐳𝐚𝐭𝐢𝐨𝐧 :"
   ]
  },
  {
   "cell_type": "code",
   "execution_count": 14,
   "id": "51c8faef",
   "metadata": {},
   "outputs": [],
   "source": [
    "from tensorflow.keras.layers import Dropout, BatchNormalization"
   ]
  },
  {
   "cell_type": "code",
   "execution_count": 21,
   "id": "fbcf2df1",
   "metadata": {},
   "outputs": [],
   "source": [
    "# Train model:\n",
    "model = ([\n",
    "    Dense(30, input_shape=(x_train.shape[1],), activation='relu'),\n",
    "    BatchNormalization(),\n",
    "    Dropout(0.5),\n",
    "    Dense(15, activation=\"relu\"),\n",
    "    BatchNormalization(),\n",
    "    Dropout(0.5),\n",
    "    Dense(1, activation=\"sigmoid\")\n",
    "])"
   ]
  },
  {
   "cell_type": "code",
   "execution_count": 27,
   "id": "718d67b2",
   "metadata": {},
   "outputs": [],
   "source": [
    "# Compiling and train reamin the same as before :\n",
    "model.compile(optimizer='adam', loss='binary_crossentropy', metrics=['accuracy'])"
   ]
  },
  {
   "cell_type": "code",
   "execution_count": 28,
   "id": "a551355d",
   "metadata": {
    "scrolled": true
   },
   "outputs": [
    {
     "name": "stdout",
     "output_type": "stream",
     "text": [
      "Epoch 1/50\n",
      "34/34 [==============================] - 4s 22ms/step - loss: 0.1390 - accuracy: 0.9588 - val_loss: 0.0829 - val_accuracy: 0.9535\n",
      "Epoch 2/50\n",
      "34/34 [==============================] - 0s 8ms/step - loss: 0.1541 - accuracy: 0.9471 - val_loss: 0.0845 - val_accuracy: 0.9419\n",
      "Epoch 3/50\n",
      "34/34 [==============================] - 0s 8ms/step - loss: 0.1733 - accuracy: 0.9353 - val_loss: 0.0829 - val_accuracy: 0.9535\n",
      "Epoch 4/50\n",
      "34/34 [==============================] - 0s 9ms/step - loss: 0.1943 - accuracy: 0.9412 - val_loss: 0.0812 - val_accuracy: 0.9535\n",
      "Epoch 5/50\n",
      "34/34 [==============================] - 0s 9ms/step - loss: 0.1966 - accuracy: 0.9294 - val_loss: 0.0814 - val_accuracy: 0.9535\n",
      "Epoch 6/50\n",
      "34/34 [==============================] - 0s 9ms/step - loss: 0.1725 - accuracy: 0.9500 - val_loss: 0.0795 - val_accuracy: 0.9535\n",
      "Epoch 7/50\n",
      "34/34 [==============================] - 0s 10ms/step - loss: 0.1282 - accuracy: 0.9559 - val_loss: 0.0801 - val_accuracy: 0.9651\n",
      "Epoch 8/50\n",
      "34/34 [==============================] - 0s 8ms/step - loss: 0.1225 - accuracy: 0.9735 - val_loss: 0.0771 - val_accuracy: 0.9651\n",
      "Epoch 9/50\n",
      "34/34 [==============================] - 0s 9ms/step - loss: 0.1904 - accuracy: 0.9382 - val_loss: 0.0767 - val_accuracy: 0.9651\n",
      "Epoch 10/50\n",
      "34/34 [==============================] - 0s 9ms/step - loss: 0.1178 - accuracy: 0.9588 - val_loss: 0.0744 - val_accuracy: 0.9651\n",
      "Epoch 11/50\n",
      "34/34 [==============================] - 0s 9ms/step - loss: 0.1252 - accuracy: 0.9588 - val_loss: 0.0748 - val_accuracy: 0.9535\n",
      "Epoch 12/50\n",
      "34/34 [==============================] - 0s 8ms/step - loss: 0.1014 - accuracy: 0.9676 - val_loss: 0.0714 - val_accuracy: 0.9651\n",
      "Epoch 13/50\n",
      "34/34 [==============================] - 0s 10ms/step - loss: 0.1950 - accuracy: 0.9471 - val_loss: 0.0686 - val_accuracy: 0.9767\n",
      "Epoch 14/50\n",
      "34/34 [==============================] - 0s 9ms/step - loss: 0.0821 - accuracy: 0.9735 - val_loss: 0.0689 - val_accuracy: 0.9767\n",
      "Epoch 15/50\n",
      "34/34 [==============================] - 0s 9ms/step - loss: 0.1079 - accuracy: 0.9676 - val_loss: 0.0681 - val_accuracy: 0.9767\n",
      "Epoch 16/50\n",
      "34/34 [==============================] - 0s 9ms/step - loss: 0.1684 - accuracy: 0.9471 - val_loss: 0.0735 - val_accuracy: 0.9535\n",
      "Epoch 17/50\n",
      "34/34 [==============================] - 0s 8ms/step - loss: 0.1301 - accuracy: 0.9647 - val_loss: 0.0721 - val_accuracy: 0.9651\n",
      "Epoch 18/50\n",
      "34/34 [==============================] - 0s 9ms/step - loss: 0.1654 - accuracy: 0.9471 - val_loss: 0.0664 - val_accuracy: 0.9884\n",
      "Epoch 19/50\n",
      "34/34 [==============================] - 0s 9ms/step - loss: 0.1360 - accuracy: 0.9618 - val_loss: 0.0669 - val_accuracy: 0.9767\n",
      "Epoch 20/50\n",
      "34/34 [==============================] - 0s 10ms/step - loss: 0.1461 - accuracy: 0.9471 - val_loss: 0.0667 - val_accuracy: 0.9767\n",
      "Epoch 21/50\n",
      "34/34 [==============================] - 0s 8ms/step - loss: 0.1475 - accuracy: 0.9559 - val_loss: 0.0727 - val_accuracy: 0.9767\n",
      "Epoch 22/50\n",
      "34/34 [==============================] - 0s 9ms/step - loss: 0.0840 - accuracy: 0.9765 - val_loss: 0.0689 - val_accuracy: 0.9767\n",
      "Epoch 23/50\n",
      "34/34 [==============================] - 0s 8ms/step - loss: 0.1567 - accuracy: 0.9500 - val_loss: 0.0683 - val_accuracy: 0.9767\n",
      "Epoch 24/50\n",
      "34/34 [==============================] - 0s 9ms/step - loss: 0.1380 - accuracy: 0.9500 - val_loss: 0.0637 - val_accuracy: 0.9767\n",
      "Epoch 25/50\n",
      "34/34 [==============================] - 0s 9ms/step - loss: 0.1705 - accuracy: 0.9588 - val_loss: 0.0644 - val_accuracy: 0.9767\n",
      "Epoch 26/50\n",
      "34/34 [==============================] - 0s 10ms/step - loss: 0.1530 - accuracy: 0.9559 - val_loss: 0.0644 - val_accuracy: 0.9767\n",
      "Epoch 27/50\n",
      "34/34 [==============================] - 0s 9ms/step - loss: 0.1460 - accuracy: 0.9647 - val_loss: 0.0638 - val_accuracy: 0.9767\n",
      "Epoch 28/50\n",
      "34/34 [==============================] - 0s 8ms/step - loss: 0.1273 - accuracy: 0.9676 - val_loss: 0.0677 - val_accuracy: 0.9651\n",
      "Epoch 29/50\n",
      "34/34 [==============================] - 0s 9ms/step - loss: 0.1010 - accuracy: 0.9529 - val_loss: 0.0637 - val_accuracy: 0.9767\n",
      "Epoch 30/50\n",
      "34/34 [==============================] - 0s 10ms/step - loss: 0.0928 - accuracy: 0.9706 - val_loss: 0.0637 - val_accuracy: 0.9651\n",
      "Epoch 31/50\n",
      "34/34 [==============================] - 0s 8ms/step - loss: 0.1296 - accuracy: 0.9529 - val_loss: 0.0612 - val_accuracy: 0.9767\n",
      "Epoch 32/50\n",
      "34/34 [==============================] - 0s 8ms/step - loss: 0.0660 - accuracy: 0.9824 - val_loss: 0.0601 - val_accuracy: 0.9884\n",
      "Epoch 33/50\n",
      "34/34 [==============================] - 0s 7ms/step - loss: 0.1537 - accuracy: 0.9412 - val_loss: 0.0578 - val_accuracy: 1.0000\n",
      "Epoch 34/50\n",
      "34/34 [==============================] - 0s 9ms/step - loss: 0.1491 - accuracy: 0.9471 - val_loss: 0.0559 - val_accuracy: 0.9884\n",
      "Epoch 35/50\n",
      "34/34 [==============================] - 0s 9ms/step - loss: 0.1603 - accuracy: 0.9647 - val_loss: 0.0522 - val_accuracy: 0.9884\n",
      "Epoch 36/50\n",
      "34/34 [==============================] - 0s 10ms/step - loss: 0.1016 - accuracy: 0.9676 - val_loss: 0.0546 - val_accuracy: 0.9884\n",
      "Epoch 37/50\n",
      "34/34 [==============================] - 0s 9ms/step - loss: 0.1188 - accuracy: 0.9588 - val_loss: 0.0578 - val_accuracy: 0.9884\n",
      "Epoch 38/50\n",
      "34/34 [==============================] - 0s 9ms/step - loss: 0.1190 - accuracy: 0.9647 - val_loss: 0.0580 - val_accuracy: 0.9884\n",
      "Epoch 39/50\n",
      "34/34 [==============================] - 0s 10ms/step - loss: 0.0747 - accuracy: 0.9676 - val_loss: 0.0571 - val_accuracy: 0.9884\n",
      "Epoch 40/50\n",
      "34/34 [==============================] - 0s 10ms/step - loss: 0.0861 - accuracy: 0.9794 - val_loss: 0.0566 - val_accuracy: 0.9884\n",
      "Epoch 41/50\n",
      "34/34 [==============================] - 0s 10ms/step - loss: 0.1075 - accuracy: 0.9618 - val_loss: 0.0534 - val_accuracy: 0.9884\n",
      "Epoch 42/50\n",
      "34/34 [==============================] - 0s 9ms/step - loss: 0.0948 - accuracy: 0.9647 - val_loss: 0.0542 - val_accuracy: 1.0000\n",
      "Epoch 43/50\n",
      "34/34 [==============================] - 0s 7ms/step - loss: 0.1627 - accuracy: 0.9412 - val_loss: 0.0556 - val_accuracy: 1.0000\n",
      "Epoch 44/50\n",
      "34/34 [==============================] - 0s 8ms/step - loss: 0.1527 - accuracy: 0.9412 - val_loss: 0.0544 - val_accuracy: 1.0000\n",
      "Epoch 45/50\n",
      "34/34 [==============================] - 0s 10ms/step - loss: 0.0740 - accuracy: 0.9824 - val_loss: 0.0588 - val_accuracy: 0.9767\n",
      "Epoch 46/50\n",
      "34/34 [==============================] - 0s 8ms/step - loss: 0.1833 - accuracy: 0.9412 - val_loss: 0.0592 - val_accuracy: 0.9767\n",
      "Epoch 47/50\n",
      "34/34 [==============================] - 0s 9ms/step - loss: 0.1024 - accuracy: 0.9706 - val_loss: 0.0597 - val_accuracy: 0.9884\n",
      "Epoch 48/50\n",
      "34/34 [==============================] - 0s 9ms/step - loss: 0.1314 - accuracy: 0.9529 - val_loss: 0.0578 - val_accuracy: 0.9651\n",
      "Epoch 49/50\n",
      "34/34 [==============================] - 0s 8ms/step - loss: 0.1245 - accuracy: 0.9618 - val_loss: 0.0608 - val_accuracy: 0.9651\n",
      "Epoch 50/50\n",
      "34/34 [==============================] - 0s 9ms/step - loss: 0.1420 - accuracy: 0.9618 - val_loss: 0.0634 - val_accuracy: 0.9651\n"
     ]
    },
    {
     "data": {
      "text/plain": [
       "<keras.src.callbacks.History at 0x19d4ded7350>"
      ]
     },
     "execution_count": 28,
     "metadata": {},
     "output_type": "execute_result"
    }
   ],
   "source": [
    "# Train the model:\n",
    "model.fit(x_train, y_train, epochs=50, batch_size=10, validation_split=0.2, verbose=1)"
   ]
  },
  {
   "cell_type": "markdown",
   "id": "3025b807",
   "metadata": {},
   "source": [
    "- 𝐂𝐨𝐧𝐜𝐞𝐩𝐭:\n",
    "Neural Networks are a set of algorithms, modeled loosely after the human brain, designed to recognize patterns. They interpret sensory data through a kind of machine perception, labeling, or clustering of raw input. The patterns they recognize are numerical, contained in vectors, into which all real-world data, be it images, sound, text, or time series, must be translated."
   ]
  },
  {
   "cell_type": "markdown",
   "id": "d7ec8e11",
   "metadata": {},
   "source": [
    "𝐊𝐞𝐲 𝐅𝐞𝐚𝐭𝐮𝐫𝐞𝐬 𝐨𝐟 𝐍𝐞𝐮𝐫𝐚𝐥 𝐍𝐞𝐭𝐰𝐨𝐫𝐤𝐬 :\n",
    "    \n",
    "- 𝐋𝐚𝐲𝐞𝐫𝐬: Composed of an input layer, hidden layers, and an output layer.\n",
    "- 𝐍𝐞𝐮𝐫𝐨𝐧𝐬: Basic units that take inputs, apply weights, add a bias, and pass through an activation function.\n",
    "- 𝐀𝐜𝐭𝐢𝐯𝐚𝐭𝐢𝐨𝐧 𝐅𝐮𝐧𝐜𝐭𝐢𝐨𝐧𝐬: Functions applied to the neurons' output, introducing non-linearity (e.g., ReLU, sigmoid, tanh).\n",
    "- 𝐁𝐚𝐜𝐤𝐩𝐫𝐨𝐩𝐚𝐠𝐚𝐭𝐢𝐨𝐧: Learning algorithm for training the network by minimizing the error.\n",
    "- 𝐓𝐫𝐚𝐢𝐧𝐢𝐧𝐠: Adjusts weights based on the error calculated from the output and the expected output."
   ]
  },
  {
   "cell_type": "markdown",
   "id": "e05bece1",
   "metadata": {},
   "source": [
    "𝐊𝐞𝐲 𝐒𝐭𝐞𝐩𝐬 :\n",
    "    \n",
    "- 𝐈𝐧𝐢𝐭𝐢𝐚𝐥𝐢𝐳𝐞 𝐖𝐞𝐢𝐠𝐡𝐭𝐬 𝐚𝐧𝐝 𝐁𝐢𝐚𝐬𝐞𝐬: Start with small random values.\n",
    "- 𝐅𝐨𝐫𝐰𝐚𝐫𝐝 𝐏𝐫𝐨𝐩𝐚𝐠𝐚𝐭𝐢𝐨𝐧: Pass inputs through the network layers to get predictions.\n",
    "- 𝐂𝐚𝐥𝐜𝐮𝐥𝐚𝐭𝐞 𝐋𝐨𝐬𝐬: Measure the difference between predictions and actual values.\n",
    "- 𝐁𝐚𝐜𝐤𝐰𝐚𝐫𝐝 𝐏𝐫𝐨𝐩𝐚𝐠𝐚𝐭𝐢𝐨𝐧: Compute the gradient of the loss function and update weights.\n",
    "- 𝐈𝐭𝐞𝐫𝐚𝐭𝐢𝐨𝐧: Repeat forward and backward propagation for a set number of epochs or until the loss converges."
   ]
  },
  {
   "cell_type": "markdown",
   "id": "bf920c3a",
   "metadata": {},
   "source": [
    "𝐀𝐝𝐯𝐚𝐧𝐜𝐞𝐝 𝐅𝐞𝐚𝐭𝐮𝐫𝐞𝐬 𝐨𝐟 𝐍𝐞𝐮𝐫𝐚𝐥 𝐍𝐞𝐭𝐰𝐨𝐫𝐤𝐬:\n",
    "\n",
    "1. 𝐇𝐲𝐩𝐞𝐫𝐩𝐚𝐫𝐚𝐦𝐞𝐭𝐞𝐫 𝐓𝐮𝐧𝐢𝐧𝐠: Tuning the number of layers, neurons, learning rate, batch size, and epochs for optimal performance.\n",
    "2. 𝐑𝐞𝐠𝐮𝐥𝐚𝐫𝐢𝐳𝐚𝐭𝐢𝐨𝐧 𝐓𝐞𝐜𝐡𝐧𝐢𝐪𝐮𝐞𝐬: \n",
    "   - 𝐃𝐫𝐨𝐩𝐨𝐮𝐭: Randomly drops neurons during training to prevent overfitting.\n",
    "   - 𝐋𝟏/𝐋𝟐 𝐑𝐞𝐠𝐮𝐥𝐚𝐫𝐢𝐳𝐚𝐭𝐢𝐨𝐧: Adds penalties to the loss function for large weights to prevent overfitting.\n",
    "3. 𝐄𝐚𝐫𝐥𝐲 𝐒𝐭𝐨𝐩𝐩𝐢𝐧𝐠: Stops training when the validation loss stops improving.\n",
    "4. 𝐁𝐚𝐭𝐜𝐡 𝐍𝐨𝐫𝐦𝐚𝐥𝐢𝐳𝐚𝐭𝐢𝐨𝐧: Normalizes inputs of each layer to stabilize and accelerate training."
   ]
  },
  {
   "cell_type": "markdown",
   "id": "775ce8b3",
   "metadata": {},
   "source": [
    "𝐀𝐩𝐩𝐥𝐢𝐜𝐚𝐭𝐢𝐨𝐧𝐬 :\n",
    "    \n",
    "Neural Networks are widely used in various fields such as:\n",
    "    \n",
    "-  Image classification, object detection, facial recognition.\n",
    "- Natural Language Processing: Sentiment analysis, language translation, text generation.\n",
    "- Healthcare: Disease prediction, medical image analysis, drug discovery.\n",
    "- Finance: Stock price prediction, fraud detection, credit scoring.\n",
    "- Robotics: Autonomous driving, robotic control, gesture recognition."
   ]
  },
  {
   "cell_type": "code",
   "execution_count": null,
   "id": "bc4df82a",
   "metadata": {},
   "outputs": [],
   "source": []
  }
 ],
 "metadata": {
  "kernelspec": {
   "display_name": "Python 3 (ipykernel)",
   "language": "python",
   "name": "python3"
  },
  "language_info": {
   "codemirror_mode": {
    "name": "ipython",
    "version": 3
   },
   "file_extension": ".py",
   "mimetype": "text/x-python",
   "name": "python",
   "nbconvert_exporter": "python",
   "pygments_lexer": "ipython3",
   "version": "3.11.5"
  }
 },
 "nbformat": 4,
 "nbformat_minor": 5
}
